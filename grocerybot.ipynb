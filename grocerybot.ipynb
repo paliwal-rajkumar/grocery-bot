{
  "cells": [
    {
      "cell_type": "markdown",
      "metadata": {
        "id": "erNS8DBy9LZW"
      },
      "source": [
        "# GroceryBot, a sample grocery and recipe assistant - RAG + ReAct\n"
      ]
    },
    {
      "cell_type": "markdown",
      "metadata": {
        "id": "rjvxwk1bmeq9"
      },
      "source": [
        "## Overview\n",
        "This notebook demonstrates how Retrieval Augmented Generation (RAG) and Reasoning + Acting (ReAct) can be used to create a conversational bot, capable of assisting a customer in their grocery shopping journey.\n",
        "\n",
        "\n",
        "## Scenario\n",
        "Imagine you are a user of Cymbal Grocery, your favorite grocery store. You would like to cook something nice for dinner, like lasagne, but you don't know where to start, which ingredients to buy, or how to cook lasagne.\n",
        "\n",
        "You enter the website and you find that Cymbal Grocery has just released a new conversational bot, GroceryBot!\n",
        "\n",
        "GroceryBot will help you in your shopping journey by:\n",
        "\n",
        "1. Suggesting you a recipe\n",
        "2. Getting the list of ingredients and cooking instructions\n",
        "3. Suggesting you products you will like to buy for that recipe\n",
        "4. Helping you find new products you'd like to buy for your dinner!\n",
        "\n",
        "## Objective & Requirements\n",
        "Your objective is to develop **GroceryBot**!\n",
        "\n",
        "There is one main requirement: you will need to make sure that this bot is **grounded**. Grounding refers to the process of connecting LLMs with external knowledge sources, such as databases.\n",
        "\n",
        "In practice, this means that GroceryBot should leverage:\n",
        "\n",
        "1. The existing recipe catalog of Cymbal Grocery. GroceryBot should not suggest recipes that are not part of this catalog.\n",
        "2. The existing product catalog of Cymbal Grocery. GroceryBot should not suggest products that are not part of this catalog.\n",
        "3. A set of precomputed products suggested for a recipe.\n",
        "\n",
        "To do this, you can use an approach called Retrieval Augmented Generation (RAG), which attempts to mitigate the problem of hallucination by inserting factual information (in this case, recipe and product information) into the prompt which is sent to the LLM.\n"
      ]
    },
    {
      "cell_type": "markdown",
      "metadata": {
        "id": "m5U3-eP8QWVW"
      },
      "source": [
        "The following image shows what could be possible with GroceryBot if the solution was to be deployed and integrated with a FrontEnd application.\n",
        "\n",
        "![image](https://storage.googleapis.com/github-repo/img/language/reference_architectures/spotbot/spotbot_chat_example.png)\n"
      ]
    },
    {
      "cell_type": "markdown",
      "metadata": {
        "id": "GUoTFxB0XN27"
      },
      "source": [
        "![image](https://storage.googleapis.com/github-repo/img/language/reference_architectures/spotbot/spotbot_architecture.png)"
      ]
    },
    {
      "cell_type": "markdown",
      "metadata": {
        "id": "-st5PObCwXrs"
      },
      "source": [
        "# Getting Started"
      ]
    },
    {
      "cell_type": "markdown",
      "metadata": {
        "id": "xjCD2wLB8xgw"
      },
      "source": [
        "### Install libraries"
      ]
    },
    {
      "cell_type": "code",
      "execution_count": null,
      "metadata": {
        "id": "ohPUPez8imvE",
        "outputId": "e7e18bed-0e82-48fa-8f68-ce29a6057433"
      },
      "outputs": [
        {
          "name": "stdout",
          "output_type": "stream",
          "text": [
            "Collecting google-cloud-aiplatform==1.35.0\n",
            "  Obtaining dependency information for google-cloud-aiplatform==1.35.0 from https://files.pythonhosted.org/packages/f6/67/734b8c73b8e708a24301b8a0a072ddfe936816896d12af4884e4f7bbd3b0/google_cloud_aiplatform-1.35.0-py2.py3-none-any.whl.metadata\n",
            "  Using cached google_cloud_aiplatform-1.35.0-py2.py3-none-any.whl.metadata (27 kB)\n",
            "Collecting langchain==0.0.323\n",
            "  Obtaining dependency information for langchain==0.0.323 from https://files.pythonhosted.org/packages/b6/c4/4ad303c18ce9659b34c1c7f2c4195d95dfc428cc818ec91f31777624d945/langchain-0.0.323-py3-none-any.whl.metadata\n",
            "  Using cached langchain-0.0.323-py3-none-any.whl.metadata (15 kB)\n",
            "Collecting faiss-cpu==1.7.4\n",
            "  Using cached faiss-cpu-1.7.4.tar.gz (57 kB)\n",
            "  Installing build dependencies: started\n",
            "  Installing build dependencies: finished with status 'done'\n",
            "  Getting requirements to build wheel: started\n",
            "  Getting requirements to build wheel: finished with status 'done'\n",
            "  Preparing metadata (pyproject.toml): started\n",
            "  Preparing metadata (pyproject.toml): finished with status 'done'\n",
            "Collecting google-api-core[grpc]!=2.0.*,!=2.1.*,!=2.2.*,!=2.3.*,!=2.4.*,!=2.5.*,!=2.6.*,!=2.7.*,<3.0.0dev,>=1.32.0 (from google-cloud-aiplatform==1.35.0)\n",
            "  Obtaining dependency information for google-api-core[grpc]!=2.0.*,!=2.1.*,!=2.2.*,!=2.3.*,!=2.4.*,!=2.5.*,!=2.6.*,!=2.7.*,<3.0.0dev,>=1.32.0 from https://files.pythonhosted.org/packages/2d/ed/e514e0c59cdf1a469b1a1ab21b77698d0692adaa7cbc920c3a0b287e8493/google_api_core-2.19.0-py3-none-any.whl.metadata\n",
            "  Downloading google_api_core-2.19.0-py3-none-any.whl.metadata (2.7 kB)\n",
            "Collecting proto-plus<2.0.0dev,>=1.22.0 (from google-cloud-aiplatform==1.35.0)\n",
            "  Obtaining dependency information for proto-plus<2.0.0dev,>=1.22.0 from https://files.pythonhosted.org/packages/ad/41/7361075f3a31dcd05a6a38cfd807a6eecbfb6dbfe420d922cd400fc03ac1/proto_plus-1.23.0-py3-none-any.whl.metadata\n",
            "  Using cached proto_plus-1.23.0-py3-none-any.whl.metadata (2.2 kB)\n",
            "Collecting protobuf!=3.20.0,!=3.20.1,!=4.21.0,!=4.21.1,!=4.21.2,!=4.21.3,!=4.21.4,!=4.21.5,<5.0.0dev,>=3.19.5 (from google-cloud-aiplatform==1.35.0)\n",
            "  Obtaining dependency information for protobuf!=3.20.0,!=3.20.1,!=4.21.0,!=4.21.1,!=4.21.2,!=4.21.3,!=4.21.4,!=4.21.5,<5.0.0dev,>=3.19.5 from https://files.pythonhosted.org/packages/ad/6e/1bed3b7c904cc178cb8ee8dbaf72934964452b3de95b7a63412591edb93c/protobuf-4.25.3-cp310-abi3-win_amd64.whl.metadata\n",
            "  Using cached protobuf-4.25.3-cp310-abi3-win_amd64.whl.metadata (541 bytes)\n",
            "Requirement already satisfied: packaging>=14.3 in c:\\users\\hp\\appdata\\local\\programs\\python\\python312\\lib\\site-packages (from google-cloud-aiplatform==1.35.0) (24.0)\n",
            "Collecting google-cloud-storage<3.0.0dev,>=1.32.0 (from google-cloud-aiplatform==1.35.0)\n",
            "  Obtaining dependency information for google-cloud-storage<3.0.0dev,>=1.32.0 from https://files.pythonhosted.org/packages/cb/e5/7d045d188f4ef85d94b9e3ae1bf876170c6b9f4c9a950124978efc36f680/google_cloud_storage-2.16.0-py2.py3-none-any.whl.metadata\n",
            "  Using cached google_cloud_storage-2.16.0-py2.py3-none-any.whl.metadata (6.1 kB)\n",
            "Collecting google-cloud-bigquery<4.0.0dev,>=1.15.0 (from google-cloud-aiplatform==1.35.0)\n",
            "  Obtaining dependency information for google-cloud-bigquery<4.0.0dev,>=1.15.0 from https://files.pythonhosted.org/packages/9d/75/e0a0b879baa6f521441c38ab06f21f923ceafd5ffacab41411ddecc1a9b4/google_cloud_bigquery-3.22.0-py2.py3-none-any.whl.metadata\n",
            "  Downloading google_cloud_bigquery-3.22.0-py2.py3-none-any.whl.metadata (8.9 kB)\n",
            "Collecting google-cloud-resource-manager<3.0.0dev,>=1.3.3 (from google-cloud-aiplatform==1.35.0)\n",
            "  Obtaining dependency information for google-cloud-resource-manager<3.0.0dev,>=1.3.3 from https://files.pythonhosted.org/packages/53/55/2f7df25b0120c5b8bca7dc31dd5722119530693c14dcf0cef24063848fec/google_cloud_resource_manager-1.12.3-py2.py3-none-any.whl.metadata\n",
            "  Using cached google_cloud_resource_manager-1.12.3-py2.py3-none-any.whl.metadata (5.3 kB)\n",
            "Collecting shapely<3.0.0dev (from google-cloud-aiplatform==1.35.0)\n",
            "  Obtaining dependency information for shapely<3.0.0dev from https://files.pythonhosted.org/packages/81/35/6d8b5cf9a747b94e8940619d914280fc4ce8e86e411ad19d39e7e8be036c/shapely-2.0.4-cp312-cp312-win_amd64.whl.metadata\n",
            "  Downloading shapely-2.0.4-cp312-cp312-win_amd64.whl.metadata (7.2 kB)\n",
            "Requirement already satisfied: PyYAML>=5.3 in c:\\users\\hp\\appdata\\local\\programs\\python\\python312\\lib\\site-packages (from langchain==0.0.323) (6.0.1)\n",
            "Collecting SQLAlchemy<3,>=1.4 (from langchain==0.0.323)\n",
            "  Obtaining dependency information for SQLAlchemy<3,>=1.4 from https://files.pythonhosted.org/packages/dc/01/bff536f96ea323a7d80df128a7bc947e3c25a60383425bf491232112c30d/SQLAlchemy-2.0.30-cp312-cp312-win_amd64.whl.metadata\n",
            "  Downloading SQLAlchemy-2.0.30-cp312-cp312-win_amd64.whl.metadata (9.8 kB)\n",
            "Collecting aiohttp<4.0.0,>=3.8.3 (from langchain==0.0.323)\n",
            "  Obtaining dependency information for aiohttp<4.0.0,>=3.8.3 from https://files.pythonhosted.org/packages/a0/00/cdbda8b406ce7b656b9cb765f8134b1edb999f816f54e47347d2bc67f4bf/aiohttp-3.9.5-cp312-cp312-win_amd64.whl.metadata\n",
            "  Downloading aiohttp-3.9.5-cp312-cp312-win_amd64.whl.metadata (7.7 kB)\n",
            "Collecting anyio<4.0 (from langchain==0.0.323)\n",
            "  Obtaining dependency information for anyio<4.0 from https://files.pythonhosted.org/packages/19/24/44299477fe7dcc9cb58d0a57d5a7588d6af2ff403fdd2d47a246c91a3246/anyio-3.7.1-py3-none-any.whl.metadata\n",
            "  Using cached anyio-3.7.1-py3-none-any.whl.metadata (4.7 kB)\n",
            "Collecting dataclasses-json<0.7,>=0.5.7 (from langchain==0.0.323)\n",
            "  Obtaining dependency information for dataclasses-json<0.7,>=0.5.7 from https://files.pythonhosted.org/packages/92/70/382283d80cb998ebc0089428b109bbe606ec9dce891a3cb1468c03ed0ad6/dataclasses_json-0.6.6-py3-none-any.whl.metadata\n",
            "  Downloading dataclasses_json-0.6.6-py3-none-any.whl.metadata (25 kB)\n",
            "Collecting jsonpatch<2.0,>=1.33 (from langchain==0.0.323)\n",
            "  Obtaining dependency information for jsonpatch<2.0,>=1.33 from https://files.pythonhosted.org/packages/73/07/02e16ed01e04a374e644b575638ec7987ae846d25ad97bcc9945a3ee4b0e/jsonpatch-1.33-py2.py3-none-any.whl.metadata\n",
            "  Using cached jsonpatch-1.33-py2.py3-none-any.whl.metadata (3.0 kB)\n",
            "Collecting langsmith<0.1.0,>=0.0.43 (from langchain==0.0.323)\n",
            "  Obtaining dependency information for langsmith<0.1.0,>=0.0.43 from https://files.pythonhosted.org/packages/97/cd/1c618f89d3fcbb375c99a3ea950bffba8a01862cc0f0ab5032dfb95e8d1e/langsmith-0.0.92-py3-none-any.whl.metadata\n",
            "  Using cached langsmith-0.0.92-py3-none-any.whl.metadata (9.9 kB)\n",
            "Requirement already satisfied: numpy<2,>=1 in c:\\users\\hp\\appdata\\local\\programs\\python\\python312\\lib\\site-packages (from langchain==0.0.323) (1.26.4)\n",
            "Collecting pydantic<3,>=1 (from langchain==0.0.323)\n",
            "  Obtaining dependency information for pydantic<3,>=1 from https://files.pythonhosted.org/packages/ed/76/9a17032880ed27f2dbd490c77a3431cbc80f47ba81534131de3c2846e736/pydantic-2.7.1-py3-none-any.whl.metadata\n",
            "  Downloading pydantic-2.7.1-py3-none-any.whl.metadata (107 kB)\n",
            "     ---------------------------------------- 0.0/107.3 kB ? eta -:--:--\n",
            "     -------------------------------------- 107.3/107.3 kB 3.1 MB/s eta 0:00:00\n",
            "Requirement already satisfied: requests<3,>=2 in c:\\users\\hp\\appdata\\local\\programs\\python\\python312\\lib\\site-packages (from langchain==0.0.323) (2.31.0)\n",
            "Collecting tenacity<9.0.0,>=8.1.0 (from langchain==0.0.323)\n",
            "  Obtaining dependency information for tenacity<9.0.0,>=8.1.0 from https://files.pythonhosted.org/packages/61/a1/6bb0cbebefb23641f068bb58a2bc56da9beb2b1c550242e3c540b37698f3/tenacity-8.3.0-py3-none-any.whl.metadata\n",
            "  Downloading tenacity-8.3.0-py3-none-any.whl.metadata (1.2 kB)\n",
            "Collecting aiosignal>=1.1.2 (from aiohttp<4.0.0,>=3.8.3->langchain==0.0.323)\n",
            "  Obtaining dependency information for aiosignal>=1.1.2 from https://files.pythonhosted.org/packages/76/ac/a7305707cb852b7e16ff80eaf5692309bde30e2b1100a1fcacdc8f731d97/aiosignal-1.3.1-py3-none-any.whl.metadata\n",
            "  Using cached aiosignal-1.3.1-py3-none-any.whl.metadata (4.0 kB)\n",
            "Requirement already satisfied: attrs>=17.3.0 in c:\\users\\hp\\appdata\\local\\programs\\python\\python312\\lib\\site-packages (from aiohttp<4.0.0,>=3.8.3->langchain==0.0.323) (23.2.0)\n",
            "Collecting frozenlist>=1.1.1 (from aiohttp<4.0.0,>=3.8.3->langchain==0.0.323)\n",
            "  Obtaining dependency information for frozenlist>=1.1.1 from https://files.pythonhosted.org/packages/3e/dc/96647994a013bc72f3d453abab18340b7f5e222b7b7291e3697ca1fcfbd5/frozenlist-1.4.1-cp312-cp312-win_amd64.whl.metadata\n",
            "  Using cached frozenlist-1.4.1-cp312-cp312-win_amd64.whl.metadata (12 kB)\n",
            "Collecting multidict<7.0,>=4.5 (from aiohttp<4.0.0,>=3.8.3->langchain==0.0.323)\n",
            "  Obtaining dependency information for multidict<7.0,>=4.5 from https://files.pythonhosted.org/packages/4a/68/66fceb758ad7a88993940dbdf3ac59911ba9dc46d7798bf6c8652f89f853/multidict-6.0.5-cp312-cp312-win_amd64.whl.metadata\n",
            "  Using cached multidict-6.0.5-cp312-cp312-win_amd64.whl.metadata (4.3 kB)\n",
            "Collecting yarl<2.0,>=1.0 (from aiohttp<4.0.0,>=3.8.3->langchain==0.0.323)\n",
            "  Obtaining dependency information for yarl<2.0,>=1.0 from https://files.pythonhosted.org/packages/c5/f4/2fdc5a11503bc61818243653d836061c9ce0370e2dd9ac5917258a007675/yarl-1.9.4-cp312-cp312-win_amd64.whl.metadata\n",
            "  Using cached yarl-1.9.4-cp312-cp312-win_amd64.whl.metadata (32 kB)\n",
            "Requirement already satisfied: idna>=2.8 in c:\\users\\hp\\appdata\\local\\programs\\python\\python312\\lib\\site-packages (from anyio<4.0->langchain==0.0.323) (3.6)\n",
            "Requirement already satisfied: sniffio>=1.1 in c:\\users\\hp\\appdata\\local\\programs\\python\\python312\\lib\\site-packages (from anyio<4.0->langchain==0.0.323) (1.3.1)\n",
            "Collecting marshmallow<4.0.0,>=3.18.0 (from dataclasses-json<0.7,>=0.5.7->langchain==0.0.323)\n",
            "  Obtaining dependency information for marshmallow<4.0.0,>=3.18.0 from https://files.pythonhosted.org/packages/be/24/cbb242420021a79c87768dcd22ce028f48ef40913239ad6106c8a557f52c/marshmallow-3.21.2-py3-none-any.whl.metadata\n",
            "  Downloading marshmallow-3.21.2-py3-none-any.whl.metadata (7.1 kB)\n",
            "Collecting typing-inspect<1,>=0.4.0 (from dataclasses-json<0.7,>=0.5.7->langchain==0.0.323)\n",
            "  Obtaining dependency information for typing-inspect<1,>=0.4.0 from https://files.pythonhosted.org/packages/65/f3/107a22063bf27bdccf2024833d3445f4eea42b2e598abfbd46f6a63b6cb0/typing_inspect-0.9.0-py3-none-any.whl.metadata\n",
            "  Using cached typing_inspect-0.9.0-py3-none-any.whl.metadata (1.5 kB)\n",
            "Collecting googleapis-common-protos<2.0.dev0,>=1.56.2 (from google-api-core[grpc]!=2.0.*,!=2.1.*,!=2.2.*,!=2.3.*,!=2.4.*,!=2.5.*,!=2.6.*,!=2.7.*,<3.0.0dev,>=1.32.0->google-cloud-aiplatform==1.35.0)\n",
            "  Obtaining dependency information for googleapis-common-protos<2.0.dev0,>=1.56.2 from https://files.pythonhosted.org/packages/dc/a6/12a0c976140511d8bc8a16ad15793b2aef29ac927baa0786ccb7ddbb6e1c/googleapis_common_protos-1.63.0-py2.py3-none-any.whl.metadata\n",
            "  Using cached googleapis_common_protos-1.63.0-py2.py3-none-any.whl.metadata (1.5 kB)\n",
            "Collecting google-auth<3.0.dev0,>=2.14.1 (from google-api-core[grpc]!=2.0.*,!=2.1.*,!=2.2.*,!=2.3.*,!=2.4.*,!=2.5.*,!=2.6.*,!=2.7.*,<3.0.0dev,>=1.32.0->google-cloud-aiplatform==1.35.0)\n",
            "  Obtaining dependency information for google-auth<3.0.dev0,>=2.14.1 from https://files.pythonhosted.org/packages/9e/8d/ddbcf81ec751d8ee5fd18ac11ff38a0e110f39dfbf105e6d9db69d556dd0/google_auth-2.29.0-py2.py3-none-any.whl.metadata\n",
            "  Downloading google_auth-2.29.0-py2.py3-none-any.whl.metadata (4.7 kB)\n",
            "Collecting grpcio<2.0dev,>=1.33.2 (from google-api-core[grpc]!=2.0.*,!=2.1.*,!=2.2.*,!=2.3.*,!=2.4.*,!=2.5.*,!=2.6.*,!=2.7.*,<3.0.0dev,>=1.32.0->google-cloud-aiplatform==1.35.0)\n",
            "  Obtaining dependency information for grpcio<2.0dev,>=1.33.2 from https://files.pythonhosted.org/packages/6d/83/d0ea07c0609b2c0bd1acafb3a89851ae4a8f9232bc7e01d693cbb98ad448/grpcio-1.63.0-cp312-cp312-win_amd64.whl.metadata\n",
            "  Downloading grpcio-1.63.0-cp312-cp312-win_amd64.whl.metadata (3.3 kB)\n",
            "Collecting grpcio-status<2.0.dev0,>=1.33.2 (from google-api-core[grpc]!=2.0.*,!=2.1.*,!=2.2.*,!=2.3.*,!=2.4.*,!=2.5.*,!=2.6.*,!=2.7.*,<3.0.0dev,>=1.32.0->google-cloud-aiplatform==1.35.0)\n",
            "  Obtaining dependency information for grpcio-status<2.0.dev0,>=1.33.2 from https://files.pythonhosted.org/packages/ef/22/e67faeb3dbf1271b1a100faeeafada4e362bad32739aeec13dd5c54ebc11/grpcio_status-1.63.0-py3-none-any.whl.metadata\n",
            "  Downloading grpcio_status-1.63.0-py3-none-any.whl.metadata (1.1 kB)\n",
            "Collecting google-cloud-core<3.0.0dev,>=1.6.0 (from google-cloud-bigquery<4.0.0dev,>=1.15.0->google-cloud-aiplatform==1.35.0)\n",
            "  Obtaining dependency information for google-cloud-core<3.0.0dev,>=1.6.0 from https://files.pythonhosted.org/packages/5e/0f/2e2061e3fbcb9d535d5da3f58cc8de4947df1786fe6a1355960feb05a681/google_cloud_core-2.4.1-py2.py3-none-any.whl.metadata\n",
            "  Using cached google_cloud_core-2.4.1-py2.py3-none-any.whl.metadata (2.7 kB)\n",
            "Collecting google-resumable-media<3.0dev,>=0.6.0 (from google-cloud-bigquery<4.0.0dev,>=1.15.0->google-cloud-aiplatform==1.35.0)\n",
            "  Obtaining dependency information for google-resumable-media<3.0dev,>=0.6.0 from https://files.pythonhosted.org/packages/b2/c6/1202ef64a9336d846f713107dac1c7a0b016cb3840ca3d5615c7005a23d1/google_resumable_media-2.7.0-py2.py3-none-any.whl.metadata\n",
            "  Using cached google_resumable_media-2.7.0-py2.py3-none-any.whl.metadata (2.2 kB)\n",
            "Requirement already satisfied: python-dateutil<3.0dev,>=2.7.2 in c:\\users\\hp\\appdata\\local\\programs\\python\\python312\\lib\\site-packages (from google-cloud-bigquery<4.0.0dev,>=1.15.0->google-cloud-aiplatform==1.35.0) (2.9.0.post0)\n",
            "Collecting grpc-google-iam-v1<1.0.0dev,>=0.12.4 (from google-cloud-resource-manager<3.0.0dev,>=1.3.3->google-cloud-aiplatform==1.35.0)\n",
            "  Obtaining dependency information for grpc-google-iam-v1<1.0.0dev,>=0.12.4 from https://files.pythonhosted.org/packages/66/a0/d27ec874fb0a86b3609b73161a15cf633924888afa05c1673b3ab5a6c3f4/grpc_google_iam_v1-0.13.0-py2.py3-none-any.whl.metadata\n",
            "  Using cached grpc_google_iam_v1-0.13.0-py2.py3-none-any.whl.metadata (3.3 kB)\n",
            "Collecting google-crc32c<2.0dev,>=1.0 (from google-cloud-storage<3.0.0dev,>=1.32.0->google-cloud-aiplatform==1.35.0)\n",
            "  Using cached google_crc32c-1.5.0-py3-none-any.whl\n",
            "Requirement already satisfied: jsonpointer>=1.9 in c:\\users\\hp\\appdata\\local\\programs\\python\\python312\\lib\\site-packages (from jsonpatch<2.0,>=1.33->langchain==0.0.323) (2.4)\n",
            "Collecting annotated-types>=0.4.0 (from pydantic<3,>=1->langchain==0.0.323)\n",
            "  Obtaining dependency information for annotated-types>=0.4.0 from https://files.pythonhosted.org/packages/28/78/d31230046e58c207284c6b2c4e8d96e6d3cb4e52354721b944d3e1ee4aa5/annotated_types-0.6.0-py3-none-any.whl.metadata\n",
            "  Using cached annotated_types-0.6.0-py3-none-any.whl.metadata (12 kB)\n",
            "Collecting pydantic-core==2.18.2 (from pydantic<3,>=1->langchain==0.0.323)\n",
            "  Obtaining dependency information for pydantic-core==2.18.2 from https://files.pythonhosted.org/packages/e4/49/f29028068b5cb364ad066a58490dd26fd1d4ba2943d829eb0f85dbc8ab06/pydantic_core-2.18.2-cp312-none-win_amd64.whl.metadata\n",
            "  Downloading pydantic_core-2.18.2-cp312-none-win_amd64.whl.metadata (6.7 kB)\n",
            "Collecting typing-extensions>=4.6.1 (from pydantic<3,>=1->langchain==0.0.323)\n",
            "  Obtaining dependency information for typing-extensions>=4.6.1 from https://files.pythonhosted.org/packages/01/f3/936e209267d6ef7510322191003885de524fc48d1b43269810cd589ceaf5/typing_extensions-4.11.0-py3-none-any.whl.metadata\n",
            "  Downloading typing_extensions-4.11.0-py3-none-any.whl.metadata (3.0 kB)\n",
            "Requirement already satisfied: charset-normalizer<4,>=2 in c:\\users\\hp\\appdata\\local\\programs\\python\\python312\\lib\\site-packages (from requests<3,>=2->langchain==0.0.323) (3.3.2)\n",
            "Requirement already satisfied: urllib3<3,>=1.21.1 in c:\\users\\hp\\appdata\\local\\programs\\python\\python312\\lib\\site-packages (from requests<3,>=2->langchain==0.0.323) (2.2.1)\n",
            "Requirement already satisfied: certifi>=2017.4.17 in c:\\users\\hp\\appdata\\local\\programs\\python\\python312\\lib\\site-packages (from requests<3,>=2->langchain==0.0.323) (2024.2.2)\n",
            "Collecting greenlet!=0.4.17 (from SQLAlchemy<3,>=1.4->langchain==0.0.323)\n",
            "  Obtaining dependency information for greenlet!=0.4.17 from https://files.pythonhosted.org/packages/53/80/3d94d5999b4179d91bcc93745d1b0815b073d61be79dd546b840d17adb18/greenlet-3.0.3-cp312-cp312-win_amd64.whl.metadata\n",
            "  Using cached greenlet-3.0.3-cp312-cp312-win_amd64.whl.metadata (3.9 kB)\n",
            "Collecting cachetools<6.0,>=2.0.0 (from google-auth<3.0.dev0,>=2.14.1->google-api-core[grpc]!=2.0.*,!=2.1.*,!=2.2.*,!=2.3.*,!=2.4.*,!=2.5.*,!=2.6.*,!=2.7.*,<3.0.0dev,>=1.32.0->google-cloud-aiplatform==1.35.0)\n",
            "  Obtaining dependency information for cachetools<6.0,>=2.0.0 from https://files.pythonhosted.org/packages/fb/2b/a64c2d25a37aeb921fddb929111413049fc5f8b9a4c1aefaffaafe768d54/cachetools-5.3.3-py3-none-any.whl.metadata\n",
            "  Using cached cachetools-5.3.3-py3-none-any.whl.metadata (5.3 kB)\n",
            "Collecting pyasn1-modules>=0.2.1 (from google-auth<3.0.dev0,>=2.14.1->google-api-core[grpc]!=2.0.*,!=2.1.*,!=2.2.*,!=2.3.*,!=2.4.*,!=2.5.*,!=2.6.*,!=2.7.*,<3.0.0dev,>=1.32.0->google-cloud-aiplatform==1.35.0)\n",
            "  Obtaining dependency information for pyasn1-modules>=0.2.1 from https://files.pythonhosted.org/packages/13/68/8906226b15ef38e71dc926c321d2fe99de8048e9098b5dfd38343011c886/pyasn1_modules-0.4.0-py3-none-any.whl.metadata\n",
            "  Downloading pyasn1_modules-0.4.0-py3-none-any.whl.metadata (3.4 kB)\n",
            "Collecting rsa<5,>=3.1.4 (from google-auth<3.0.dev0,>=2.14.1->google-api-core[grpc]!=2.0.*,!=2.1.*,!=2.2.*,!=2.3.*,!=2.4.*,!=2.5.*,!=2.6.*,!=2.7.*,<3.0.0dev,>=1.32.0->google-cloud-aiplatform==1.35.0)\n",
            "  Obtaining dependency information for rsa<5,>=3.1.4 from https://files.pythonhosted.org/packages/49/97/fa78e3d2f65c02c8e1268b9aba606569fe97f6c8f7c2d74394553347c145/rsa-4.9-py3-none-any.whl.metadata\n",
            "  Using cached rsa-4.9-py3-none-any.whl.metadata (4.2 kB)\n",
            "INFO: pip is looking at multiple versions of grpcio-status to determine which version is compatible with other requirements. This could take a while.\n",
            "Collecting grpcio-status<2.0.dev0,>=1.33.2 (from google-api-core[grpc]!=2.0.*,!=2.1.*,!=2.2.*,!=2.3.*,!=2.4.*,!=2.5.*,!=2.6.*,!=2.7.*,<3.0.0dev,>=1.32.0->google-cloud-aiplatform==1.35.0)\n",
            "  Obtaining dependency information for grpcio-status<2.0.dev0,>=1.33.2 from https://files.pythonhosted.org/packages/33/63/56a8c67a77947d0ebc31a03c5dea8d2c933ab3ad30019b0bafa3e50a5ef6/grpcio_status-1.62.2-py3-none-any.whl.metadata\n",
            "  Downloading grpcio_status-1.62.2-py3-none-any.whl.metadata (1.3 kB)\n",
            "Requirement already satisfied: six>=1.5 in c:\\users\\hp\\appdata\\local\\programs\\python\\python312\\lib\\site-packages (from python-dateutil<3.0dev,>=2.7.2->google-cloud-bigquery<4.0.0dev,>=1.15.0->google-cloud-aiplatform==1.35.0) (1.16.0)\n",
            "Collecting mypy-extensions>=0.3.0 (from typing-inspect<1,>=0.4.0->dataclasses-json<0.7,>=0.5.7->langchain==0.0.323)\n",
            "  Obtaining dependency information for mypy-extensions>=0.3.0 from https://files.pythonhosted.org/packages/2a/e2/5d3f6ada4297caebe1a2add3b126fe800c96f56dbe5d1988a2cbe0b267aa/mypy_extensions-1.0.0-py3-none-any.whl.metadata\n",
            "  Using cached mypy_extensions-1.0.0-py3-none-any.whl.metadata (1.1 kB)\n",
            "Collecting pyasn1<0.7.0,>=0.4.6 (from pyasn1-modules>=0.2.1->google-auth<3.0.dev0,>=2.14.1->google-api-core[grpc]!=2.0.*,!=2.1.*,!=2.2.*,!=2.3.*,!=2.4.*,!=2.5.*,!=2.6.*,!=2.7.*,<3.0.0dev,>=1.32.0->google-cloud-aiplatform==1.35.0)\n",
            "  Obtaining dependency information for pyasn1<0.7.0,>=0.4.6 from https://files.pythonhosted.org/packages/23/7e/5f50d07d5e70a2addbccd90ac2950f81d1edd0783630651d9268d7f1db49/pyasn1-0.6.0-py2.py3-none-any.whl.metadata\n",
            "  Downloading pyasn1-0.6.0-py2.py3-none-any.whl.metadata (8.3 kB)\n",
            "Using cached google_cloud_aiplatform-1.35.0-py2.py3-none-any.whl (3.1 MB)\n",
            "Using cached langchain-0.0.323-py3-none-any.whl (1.9 MB)\n",
            "Downloading aiohttp-3.9.5-cp312-cp312-win_amd64.whl (369 kB)\n",
            "   ---------------------------------------- 0.0/369.0 kB ? eta -:--:--\n",
            "   ------------------- ------------------- 184.3/369.0 kB 11.6 MB/s eta 0:00:01\n",
            "   ---------------------------------------  368.6/369.0 kB 7.6 MB/s eta 0:00:01\n",
            "   ---------------------------------------- 369.0/369.0 kB 5.8 MB/s eta 0:00:00\n",
            "Using cached anyio-3.7.1-py3-none-any.whl (80 kB)\n",
            "Downloading dataclasses_json-0.6.6-py3-none-any.whl (28 kB)\n",
            "Downloading google_cloud_bigquery-3.22.0-py2.py3-none-any.whl (236 kB)\n",
            "   ---------------------------------------- 0.0/236.7 kB ? eta -:--:--\n",
            "   ----------------------------- ---------- 174.1/236.7 kB 3.5 MB/s eta 0:00:01\n",
            "   ---------------------------------------- 236.7/236.7 kB 3.6 MB/s eta 0:00:00\n",
            "Using cached google_cloud_resource_manager-1.12.3-py2.py3-none-any.whl (333 kB)\n",
            "Using cached google_cloud_storage-2.16.0-py2.py3-none-any.whl (125 kB)\n",
            "Using cached jsonpatch-1.33-py2.py3-none-any.whl (12 kB)\n",
            "Using cached langsmith-0.0.92-py3-none-any.whl (56 kB)\n",
            "Using cached proto_plus-1.23.0-py3-none-any.whl (48 kB)\n",
            "Using cached protobuf-4.25.3-cp310-abi3-win_amd64.whl (413 kB)\n",
            "Downloading pydantic-2.7.1-py3-none-any.whl (409 kB)\n",
            "   ---------------------------------------- 0.0/409.3 kB ? eta -:--:--\n",
            "   --------- ------------------------------ 92.2/409.3 kB 2.6 MB/s eta 0:00:01\n",
            "   ---------------------- ----------------- 225.3/409.3 kB 3.4 MB/s eta 0:00:01\n",
            "   ------------------------------ --------- 307.2/409.3 kB 2.7 MB/s eta 0:00:01\n",
            "   ---------------------------------------  399.4/409.3 kB 2.5 MB/s eta 0:00:01\n",
            "   ---------------------------------------- 409.3/409.3 kB 2.3 MB/s eta 0:00:00\n",
            "Downloading pydantic_core-2.18.2-cp312-none-win_amd64.whl (1.9 MB)\n",
            "   ---------------------------------------- 0.0/1.9 MB ? eta -:--:--\n",
            "   - -------------------------------------- 0.1/1.9 MB 2.0 MB/s eta 0:00:01\n",
            "   ----- ---------------------------------- 0.3/1.9 MB 3.2 MB/s eta 0:00:01\n",
            "   -------- ------------------------------- 0.4/1.9 MB 3.3 MB/s eta 0:00:01\n",
            "   ----------- ---------------------------- 0.5/1.9 MB 3.3 MB/s eta 0:00:01\n",
            "   -------------- ------------------------- 0.7/1.9 MB 3.4 MB/s eta 0:00:01\n",
            "   ----------------- ---------------------- 0.9/1.9 MB 3.6 MB/s eta 0:00:01\n",
            "   -------------------- ------------------- 1.0/1.9 MB 3.7 MB/s eta 0:00:01\n",
            "   ---------------------- ----------------- 1.1/1.9 MB 3.7 MB/s eta 0:00:01\n",
            "   --------------------------- ------------ 1.3/1.9 MB 3.7 MB/s eta 0:00:01\n",
            "   ------------------------------- -------- 1.5/1.9 MB 3.5 MB/s eta 0:00:01\n",
            "   ---------------------------------- ----- 1.6/1.9 MB 3.6 MB/s eta 0:00:01\n",
            "   ------------------------------------ --- 1.8/1.9 MB 3.6 MB/s eta 0:00:01\n",
            "   ---------------------------------------  1.9/1.9 MB 3.7 MB/s eta 0:00:01\n",
            "   ---------------------------------------- 1.9/1.9 MB 3.5 MB/s eta 0:00:00\n",
            "Downloading shapely-2.0.4-cp312-cp312-win_amd64.whl (1.4 MB)\n",
            "   ---------------------------------------- 0.0/1.4 MB ? eta -:--:--\n",
            "   ----- ---------------------------------- 0.2/1.4 MB 5.9 MB/s eta 0:00:01\n",
            "   ---------- ----------------------------- 0.4/1.4 MB 4.9 MB/s eta 0:00:01\n",
            "   --------------- ------------------------ 0.6/1.4 MB 4.3 MB/s eta 0:00:01\n",
            "   ------------------- -------------------- 0.7/1.4 MB 4.5 MB/s eta 0:00:01\n",
            "   ------------------------ --------------- 0.9/1.4 MB 4.3 MB/s eta 0:00:01\n",
            "   ------------------------------ --------- 1.1/1.4 MB 4.3 MB/s eta 0:00:01\n",
            "   --------------------------------- ------ 1.2/1.4 MB 4.3 MB/s eta 0:00:01\n",
            "   -------------------------------------- - 1.4/1.4 MB 4.2 MB/s eta 0:00:01\n",
            "   ---------------------------------------- 1.4/1.4 MB 4.2 MB/s eta 0:00:00\n",
            "Downloading SQLAlchemy-2.0.30-cp312-cp312-win_amd64.whl (2.1 MB)\n",
            "   ---------------------------------------- 0.0/2.1 MB ? eta -:--:--\n",
            "   - -------------------------------------- 0.1/2.1 MB 3.0 MB/s eta 0:00:01\n",
            "   ------ --------------------------------- 0.3/2.1 MB 4.3 MB/s eta 0:00:01\n",
            "   --------- ------------------------------ 0.5/2.1 MB 4.2 MB/s eta 0:00:01\n",
            "   ----------- ---------------------------- 0.6/2.1 MB 3.7 MB/s eta 0:00:01\n",
            "   -------------- ------------------------- 0.7/2.1 MB 3.6 MB/s eta 0:00:01\n",
            "   ----------------- ---------------------- 0.9/2.1 MB 3.9 MB/s eta 0:00:01\n",
            "   -------------------- ------------------- 1.1/2.1 MB 3.9 MB/s eta 0:00:01\n",
            "   ------------------------ --------------- 1.3/2.1 MB 3.9 MB/s eta 0:00:01\n",
            "   ----------------------------- ---------- 1.5/2.1 MB 4.1 MB/s eta 0:00:01\n",
            "   --------------------------------- ------ 1.7/2.1 MB 4.1 MB/s eta 0:00:01\n",
            "   ------------------------------------- -- 1.9/2.1 MB 4.1 MB/s eta 0:00:01\n",
            "   ---------------------------------------- 2.1/2.1 MB 4.0 MB/s eta 0:00:00\n",
            "Downloading tenacity-8.3.0-py3-none-any.whl (25 kB)\n",
            "Using cached aiosignal-1.3.1-py3-none-any.whl (7.6 kB)\n",
            "Using cached annotated_types-0.6.0-py3-none-any.whl (12 kB)\n",
            "Using cached frozenlist-1.4.1-cp312-cp312-win_amd64.whl (50 kB)\n",
            "Downloading google_api_core-2.19.0-py3-none-any.whl (139 kB)\n",
            "   ---------------------------------------- 0.0/139.0 kB ? eta -:--:--\n",
            "   ---------------------------------------- 139.0/139.0 kB 4.2 MB/s eta 0:00:00\n",
            "Downloading google_auth-2.29.0-py2.py3-none-any.whl (189 kB)\n",
            "   ---------------------------------------- 0.0/189.2 kB ? eta -:--:--\n",
            "   ---------------------------------- ----- 163.8/189.2 kB 9.6 MB/s eta 0:00:01\n",
            "   -------------------------------------- - 184.3/189.2 kB 2.8 MB/s eta 0:00:01\n",
            "   ---------------------------------------- 189.2/189.2 kB 1.9 MB/s eta 0:00:00\n",
            "Using cached google_cloud_core-2.4.1-py2.py3-none-any.whl (29 kB)\n",
            "Using cached google_resumable_media-2.7.0-py2.py3-none-any.whl (80 kB)\n",
            "Using cached googleapis_common_protos-1.63.0-py2.py3-none-any.whl (229 kB)\n",
            "Using cached greenlet-3.0.3-cp312-cp312-win_amd64.whl (293 kB)\n",
            "Using cached grpc_google_iam_v1-0.13.0-py2.py3-none-any.whl (25 kB)\n",
            "Downloading grpcio-1.63.0-cp312-cp312-win_amd64.whl (3.9 MB)\n",
            "   ---------------------------------------- 0.0/3.9 MB ? eta -:--:--\n",
            "   - -------------------------------------- 0.1/3.9 MB 3.3 MB/s eta 0:00:02\n",
            "   -- ------------------------------------- 0.3/3.9 MB 3.5 MB/s eta 0:00:02\n",
            "   --- ------------------------------------ 0.4/3.9 MB 3.0 MB/s eta 0:00:02\n",
            "   ----- ---------------------------------- 0.5/3.9 MB 3.2 MB/s eta 0:00:02\n",
            "   ------ --------------------------------- 0.6/3.9 MB 2.9 MB/s eta 0:00:02\n",
            "   ------- -------------------------------- 0.7/3.9 MB 2.9 MB/s eta 0:00:02\n",
            "   -------- ------------------------------- 0.8/3.9 MB 3.0 MB/s eta 0:00:02\n",
            "   --------- ------------------------------ 1.0/3.9 MB 2.8 MB/s eta 0:00:02\n",
            "   ----------- ---------------------------- 1.1/3.9 MB 2.9 MB/s eta 0:00:01\n",
            "   ------------ --------------------------- 1.2/3.9 MB 2.9 MB/s eta 0:00:01\n",
            "   -------------- ------------------------- 1.4/3.9 MB 3.0 MB/s eta 0:00:01\n",
            "   --------------- ------------------------ 1.5/3.9 MB 3.1 MB/s eta 0:00:01\n",
            "   ----------------- ---------------------- 1.8/3.9 MB 3.2 MB/s eta 0:00:01\n",
            "   ------------------- -------------------- 1.9/3.9 MB 3.1 MB/s eta 0:00:01\n",
            "   -------------------- ------------------- 2.0/3.9 MB 3.2 MB/s eta 0:00:01\n",
            "   ---------------------- ----------------- 2.2/3.9 MB 3.2 MB/s eta 0:00:01\n",
            "   ----------------------- ---------------- 2.3/3.9 MB 3.2 MB/s eta 0:00:01\n",
            "   ------------------------- -------------- 2.5/3.9 MB 3.3 MB/s eta 0:00:01\n",
            "   -------------------------- ------------- 2.6/3.9 MB 3.3 MB/s eta 0:00:01\n",
            "   --------------------------- ------------ 2.7/3.9 MB 3.2 MB/s eta 0:00:01\n",
            "   ------------------------------ --------- 3.0/3.9 MB 3.3 MB/s eta 0:00:01\n",
            "   ------------------------------- -------- 3.1/3.9 MB 3.3 MB/s eta 0:00:01\n",
            "   --------------------------------- ------ 3.2/3.9 MB 3.3 MB/s eta 0:00:01\n",
            "   ---------------------------------- ----- 3.4/3.9 MB 3.3 MB/s eta 0:00:01\n",
            "   ------------------------------------ --- 3.5/3.9 MB 3.4 MB/s eta 0:00:01\n",
            "   -------------------------------------- - 3.7/3.9 MB 3.4 MB/s eta 0:00:01\n",
            "   ---------------------------------------  3.9/3.9 MB 3.4 MB/s eta 0:00:01\n",
            "   ---------------------------------------- 3.9/3.9 MB 3.3 MB/s eta 0:00:00\n",
            "Downloading grpcio_status-1.62.2-py3-none-any.whl (14 kB)\n",
            "Downloading marshmallow-3.21.2-py3-none-any.whl (49 kB)\n",
            "   ---------------------------------------- 0.0/49.3 kB ? eta -:--:--\n",
            "   ---------------------------------------- 49.3/49.3 kB ? eta 0:00:00\n",
            "Using cached multidict-6.0.5-cp312-cp312-win_amd64.whl (27 kB)\n",
            "Downloading typing_extensions-4.11.0-py3-none-any.whl (34 kB)\n",
            "Using cached typing_inspect-0.9.0-py3-none-any.whl (8.8 kB)\n",
            "Using cached yarl-1.9.4-cp312-cp312-win_amd64.whl (76 kB)\n",
            "Using cached cachetools-5.3.3-py3-none-any.whl (9.3 kB)\n",
            "Using cached mypy_extensions-1.0.0-py3-none-any.whl (4.7 kB)\n",
            "Downloading pyasn1_modules-0.4.0-py3-none-any.whl (181 kB)\n",
            "   ---------------------------------------- 0.0/181.2 kB ? eta -:--:--\n",
            "   ------------------ --------------------- 81.9/181.2 kB 2.3 MB/s eta 0:00:01\n",
            "   ---------------------------------------- 181.2/181.2 kB 2.8 MB/s eta 0:00:00\n",
            "Using cached rsa-4.9-py3-none-any.whl (34 kB)\n",
            "Downloading pyasn1-0.6.0-py2.py3-none-any.whl (85 kB)\n",
            "   ---------------------------------------- 0.0/85.3 kB ? eta -:--:--\n",
            "   ---------------------------------------- 85.3/85.3 kB 2.4 MB/s eta 0:00:00\n",
            "Building wheels for collected packages: faiss-cpu\n",
            "  Building wheel for faiss-cpu (pyproject.toml): started\n",
            "  Building wheel for faiss-cpu (pyproject.toml): finished with status 'error'\n",
            "Failed to build faiss-cpu\n"
          ]
        },
        {
          "name": "stderr",
          "output_type": "stream",
          "text": [
            "  error: subprocess-exited-with-error\n",
            "  \n",
            "  Building wheel for faiss-cpu (pyproject.toml) did not run successfully.\n",
            "  exit code: 1\n",
            "  \n",
            "  [8 lines of output]\n",
            "  running bdist_wheel\n",
            "  running build\n",
            "  running build_py\n",
            "  running build_ext\n",
            "  building 'faiss._swigfaiss' extension\n",
            "  swigging faiss\\faiss\\python\\swigfaiss.i to faiss\\faiss\\python\\swigfaiss_wrap.cpp\n",
            "  swig.exe -python -c++ -Doverride= -I/usr/local/include -Ifaiss -doxygen -DSWIGWIN -module swigfaiss -o faiss\\faiss\\python\\swigfaiss_wrap.cpp faiss\\faiss\\python\\swigfaiss.i\n",
            "  error: command 'swig.exe' failed: None\n",
            "  [end of output]\n",
            "  \n",
            "  note: This error originates from a subprocess, and is likely not a problem with pip.\n",
            "  ERROR: Failed building wheel for faiss-cpu\n",
            "ERROR: Could not build wheels for faiss-cpu, which is required to install pyproject.toml-based projects\n",
            "\n",
            "[notice] A new release of pip is available: 23.2.1 -> 24.0\n",
            "[notice] To update, run: python.exe -m pip install --upgrade pip\n"
          ]
        }
      ],
      "source": [
        "!pip install --upgrade google-cloud-aiplatform==1.35.0 langchain==0.0.323 faiss-cpu==1.7.4 --user"
      ]
    },
    {
      "cell_type": "code",
      "execution_count": 24,
      "metadata": {
        "colab": {
          "base_uri": "https://localhost:8080/"
        },
        "id": "SfS61hkYQ4rz",
        "outputId": "85fb218a-ea81-465e-fcd3-1e7dfd89d84f"
      },
      "outputs": [
        {
          "output_type": "stream",
          "name": "stdout",
          "text": [
            "Collecting faiss-cpu\n",
            "  Downloading faiss_cpu-1.8.0-cp310-cp310-manylinux_2_17_x86_64.manylinux2014_x86_64.whl (27.0 MB)\n",
            "\u001b[2K     \u001b[90m━━━━━━━━━━━━━━━━━━━━━━━━━━━━━━━━━━━━━━━━\u001b[0m \u001b[32m27.0/27.0 MB\u001b[0m \u001b[31m39.4 MB/s\u001b[0m eta \u001b[36m0:00:00\u001b[0m\n",
            "\u001b[?25hRequirement already satisfied: numpy in /usr/local/lib/python3.10/dist-packages (from faiss-cpu) (1.25.2)\n",
            "Installing collected packages: faiss-cpu\n",
            "Successfully installed faiss-cpu-1.8.0\n"
          ]
        }
      ],
      "source": [
        "#!pip install google-auth\n",
        "#!pip install langchain\n",
        "!pip install faiss-cpu"
      ]
    },
    {
      "cell_type": "markdown",
      "metadata": {
        "id": "y_IKFS8aQ4rz"
      },
      "source": [
        "***Colab only***: Uncomment the following cell to restart the kernel or use the button to restart the kernel. For Vertex AI Workbench you can restart the terminal using the button on top."
      ]
    },
    {
      "cell_type": "code",
      "execution_count": 2,
      "metadata": {
        "id": "loTfn0KniwB2",
        "colab": {
          "base_uri": "https://localhost:8080/"
        },
        "outputId": "bdb44dbe-2f94-4704-99e1-e1230ea6572f"
      },
      "outputs": [
        {
          "output_type": "execute_result",
          "data": {
            "text/plain": [
              "{'status': 'ok', 'restart': True}"
            ]
          },
          "metadata": {},
          "execution_count": 2
        }
      ],
      "source": [
        "# Automatically restart kernel after installs so that your environment can access the new packages\n",
        "import IPython\n",
        "\n",
        "app = IPython.Application.instance()\n",
        "app.kernel.do_shutdown(True)"
      ]
    },
    {
      "cell_type": "markdown",
      "metadata": {
        "id": "Xe7OuYuGkLKF"
      },
      "source": [
        "### Authenticating your notebook environment\n",
        "* If you are using **Colab** to run this notebook, uncomment the cell below and continue.\n",
        "* If you are using **Vertex AI Workbench**, check out the setup instructions [here](https://github.com/GoogleCloudPlatform/generative-ai/tree/main/setup-env)."
      ]
    },
    {
      "cell_type": "code",
      "execution_count": 1,
      "metadata": {
        "id": "U9Gx2SAZkLKF"
      },
      "outputs": [],
      "source": [
        "from google.colab import auth\n",
        "\n",
        "auth.authenticate_user()"
      ]
    },
    {
      "cell_type": "markdown",
      "metadata": {
        "id": "JxH62gFHCFPj"
      },
      "source": [
        "### Import libraries"
      ]
    },
    {
      "cell_type": "markdown",
      "metadata": {
        "id": "Q1z48EbXTZhc"
      },
      "source": [
        "**Colab only:** Uncomment the following cell to initialize the Vertex AI SDK. For Vertex AI Workbench, you don't need to run this."
      ]
    },
    {
      "cell_type": "code",
      "execution_count": 3,
      "metadata": {
        "id": "UM8_uoOR9pGS"
      },
      "outputs": [],
      "source": [
        "import vertexai\n",
        "\n",
        "PROJECT_ID = \"grocery-bot-423511\"  # @param {type:\"string\"}\n",
        "vertexai.init(project=PROJECT_ID, location=\"us-central1\")"
      ]
    },
    {
      "cell_type": "code",
      "execution_count": 6,
      "metadata": {
        "id": "jHhdpnGMCCuh"
      },
      "outputs": [],
      "source": [
        "import glob\n",
        "import pprint\n",
        "from typing import Any, Iterator, List\n",
        "\n",
        "from langchain.agents import AgentType, initialize_agent\n",
        "from langchain.document_loaders import TextLoader\n",
        "from langchain.embeddings import VertexAIEmbeddings\n",
        "from langchain.llms import VertexAI\n",
        "from langchain.memory import ConversationBufferMemory\n",
        "from langchain.schema import Document\n",
        "from langchain.tools import tool\n",
        "from langchain.vectorstores import FAISS\n",
        "from langchain.vectorstores.base import VectorStoreRetriever\n",
        "from tqdm import tqdm"
      ]
    },
    {
      "cell_type": "markdown",
      "metadata": {
        "id": "YmZ1xwIo9lzU"
      },
      "source": [
        "### Initialize models"
      ]
    },
    {
      "cell_type": "code",
      "execution_count": 7,
      "metadata": {
        "id": "eVpPcvsrkzCk",
        "colab": {
          "base_uri": "https://localhost:8080/"
        },
        "outputId": "dfe8db32-7a8c-47f1-9f22-6e3e933e0a72"
      },
      "outputs": [
        {
          "output_type": "stream",
          "name": "stderr",
          "text": [
            "/usr/local/lib/python3.10/dist-packages/langchain_core/_api/deprecation.py:119: LangChainDeprecationWarning: The class `VertexAI` was deprecated in LangChain 0.0.12 and will be removed in 0.3.0. An updated version of the class exists in the langchain-google-vertexai package and should be used instead. To use it run `pip install -U langchain-google-vertexai` and import as `from langchain_google_vertexai import VertexAI`.\n",
            "  warn_deprecated(\n",
            "/usr/local/lib/python3.10/dist-packages/langchain_core/_api/deprecation.py:119: LangChainDeprecationWarning: The class `VertexAIEmbeddings` was deprecated in LangChain 0.0.12 and will be removed in 0.3.0. An updated version of the class exists in the langchain-google-vertexai package and should be used instead. To use it run `pip install -U langchain-google-vertexai` and import as `from langchain_google_vertexai import VertexAIEmbeddings`.\n",
            "  warn_deprecated(\n",
            "WARNING:langchain_community.embeddings.vertexai:Model_name will become a required arg for VertexAIEmbeddings starting from Feb-01-2024. Currently the default is set to textembedding-gecko@001\n"
          ]
        }
      ],
      "source": [
        "llm = VertexAI(\n",
        "    model_name=\"text-bison@001\",\n",
        "    max_output_tokens=256,\n",
        "    temperature=0,\n",
        "    top_p=0.8,\n",
        "    top_k=40,\n",
        ")\n",
        "\n",
        "embedding = VertexAIEmbeddings()"
      ]
    },
    {
      "cell_type": "markdown",
      "metadata": {
        "id": "Nx1DhGMexbdx"
      },
      "source": [
        "# Create the Recipe & Product retrievers\n",
        "\n",
        "As mentioned earlier, the objective is to leverage information from closed-domain databases in order to provide more context to the LLM. To do so, you will create two retrievers in LangChain, capable of interacting with the two local vector databases: one for the product items, and another for the recipe items."
      ]
    },
    {
      "cell_type": "markdown",
      "metadata": {
        "id": "C-pNxat75XND"
      },
      "source": [
        "First, fetch the dummy data on products and recipes from a public Cloud Storage bucket and store it locally."
      ]
    },
    {
      "cell_type": "code",
      "execution_count": 15,
      "metadata": {
        "id": "3yP6GQhgV5Nz",
        "colab": {
          "base_uri": "https://localhost:8080/"
        },
        "outputId": "58e7b9b8-1a64-41df-c100-3a3066415032"
      },
      "outputs": [
        {
          "output_type": "stream",
          "name": "stdout",
          "text": [
            "Copying gs://github-repo/use-cases/grocery_bot/products/angus_beef_lean_mince.txt...\n",
            "/ [0 files][    0.0 B/  808.0 B]                                                \rCopying gs://github-repo/use-cases/grocery_bot/products/classic_carrots.txt...\n",
            "/ [0 files][    0.0 B/  1.7 KiB]                                                \rCopying gs://github-repo/use-cases/grocery_bot/products/classic_tomatoes.txt...\n",
            "/ [0 files][    0.0 B/  3.4 KiB]                                                \rCopying gs://github-repo/use-cases/grocery_bot/products/large_onions.txt...\n",
            "Copying gs://github-repo/use-cases/grocery_bot/products/baby_plum_tomatoes.txt...\n",
            "/ [0 files][    0.0 B/  4.5 KiB]                                                \rCopying gs://github-repo/use-cases/grocery_bot/products/premium_plum_tomatoes.txt...\n",
            "/ [0 files][    0.0 B/  5.7 KiB]                                                \r/ [0 files][    0.0 B/  6.8 KiB]                                                \rCopying gs://github-repo/use-cases/grocery_bot/products/chocolate_bar.txt...\n",
            "Copying gs://github-repo/use-cases/grocery_bot/products/cherry_vine_tomatoes.txt...\n",
            "/ [0 files][    0.0 B/  7.5 KiB]                                                \r/ [0 files][    0.0 B/  9.5 KiB]                                                \rCopying gs://github-repo/use-cases/grocery_bot/products/chocolate_cake.txt...\n",
            "Copying gs://github-repo/use-cases/grocery_bot/products/premium_red_tomatoes.txt...\n",
            "Copying gs://github-repo/use-cases/grocery_bot/products/sandwich_selection.txt...\n",
            "Copying gs://github-repo/use-cases/grocery_bot/recipes/chicken_scallopini_with_asparagus.txt...\n",
            "Copying gs://github-repo/use-cases/grocery_bot/recipes/lasagne.txt...\n",
            "Copying gs://github-repo/use-cases/grocery_bot/recipes/steak_and_peanut_salad.txt...\n",
            "Copying gs://github-repo/use-cases/grocery_bot/recipes/vegetarian_lasagne.txt...\n",
            "| [15/15 files][ 17.1 KiB/ 17.1 KiB] 100% Done                                  \n",
            "Operation completed over 15 objects/17.1 KiB.                                    \n"
          ]
        }
      ],
      "source": [
        "!gsutil -m cp -r \"gs://github-repo/use-cases/grocery_bot/*\" ."
      ]
    },
    {
      "cell_type": "markdown",
      "metadata": {
        "id": "WQ8G9k4M5gaM"
      },
      "source": [
        "You then define a set of functions to enable the creation of the two vector databases, one for products, and one for recipes."
      ]
    },
    {
      "cell_type": "code",
      "execution_count": 16,
      "metadata": {
        "id": "ezemXH4zxaX-"
      },
      "outputs": [],
      "source": [
        "def chunks(lst: List[Any], n: int) -> Iterator[List[Any]]:\n",
        "    \"\"\"Yield successive n-sized chunks from lst.\n",
        "\n",
        "    Args:\n",
        "        lst: The list to be chunked.\n",
        "        n: The size of each chunk.\n",
        "\n",
        "    Yields:\n",
        "        A list of the next n elements from lst.\n",
        "    \"\"\"\n",
        "\n",
        "    for i in range(0, len(lst), n):\n",
        "        yield lst[i : i + n]\n",
        "\n",
        "\n",
        "def load_docs_from_directory(dir_path: str) -> List[Document]:\n",
        "    \"\"\"Loads a series of docs from a directory.\n",
        "\n",
        "    Args:\n",
        "      dir_path: The path to the directory containing the docs.\n",
        "\n",
        "    Returns:\n",
        "      A list of the docs in the directory.\n",
        "    \"\"\"\n",
        "\n",
        "    docs = []\n",
        "    for file_path in glob.glob(dir_path):\n",
        "        loader = TextLoader(file_path)\n",
        "        docs = docs + loader.load()\n",
        "    return docs\n",
        "\n",
        "\n",
        "def create_retriever(top_k_results: int, dir_path: str) -> VectorStoreRetriever:\n",
        "    \"\"\"Create a recipe retriever from a list of top results and a list of web pages.\n",
        "\n",
        "    Args:\n",
        "        top_k_results: number of results to return when retrieving\n",
        "        dir_path: List of web pages.\n",
        "\n",
        "    Returns:\n",
        "        A recipe retriever.\n",
        "    \"\"\"\n",
        "\n",
        "    BATCH_SIZE_EMBEDDINGS = 5\n",
        "    docs = load_docs_from_directory(dir_path=dir_path)\n",
        "    doc_chunk = chunks(docs, BATCH_SIZE_EMBEDDINGS)\n",
        "    for index, chunk in tqdm(enumerate(doc_chunk)):\n",
        "        if index == 0:\n",
        "            db = FAISS.from_documents(chunk, embedding)\n",
        "        else:\n",
        "            db.add_documents(chunk)\n",
        "\n",
        "    retriever = db.as_retriever(search_kwargs={\"k\": top_k_results})\n",
        "    return retriever"
      ]
    },
    {
      "cell_type": "markdown",
      "metadata": {
        "id": "vsjaRY6Y55yD"
      },
      "source": [
        "You are now ready to create the Vector DBs using the function defined in the previous step.\n",
        "Each Vector DB will provide a retriever instance, a Python object that, given a query, will provide a list of documents matching that query.\n",
        "\n",
        "You will create:\n",
        "- `recipe_retriever`: to retrieve a set of recipes matching the query\n",
        "- `product_retriever`: to retrieve a set of products matching the query"
      ]
    },
    {
      "cell_type": "code",
      "execution_count": 25,
      "metadata": {
        "id": "BYb9WWvCKpxl",
        "colab": {
          "base_uri": "https://localhost:8080/"
        },
        "outputId": "c8f7bb77-a3d3-423b-bda1-10e09cd50d8c"
      },
      "outputs": [
        {
          "output_type": "stream",
          "name": "stderr",
          "text": [
            "1it [00:00,  4.19it/s]\n",
            "3it [00:00,  4.84it/s]\n"
          ]
        }
      ],
      "source": [
        "recipe_retriever = create_retriever(top_k_results=2, dir_path=\"./recipes/*\")\n",
        "product_retriever = create_retriever(top_k_results=5, dir_path=\"./products/*\")"
      ]
    },
    {
      "cell_type": "markdown",
      "metadata": {
        "id": "yzPr73OM6uDY"
      },
      "source": [
        "Now you are ready to test the retrievers! For example if you ask `recipe_retriever` to find \"lasagne recipes\" you should see the two closest recipes matching the query."
      ]
    },
    {
      "cell_type": "code",
      "execution_count": 26,
      "metadata": {
        "id": "GGazDy8d54Hq",
        "colab": {
          "base_uri": "https://localhost:8080/"
        },
        "outputId": "5e7ad514-a680-4575-9f3f-16dd3c47118e"
      },
      "outputs": [
        {
          "output_type": "stream",
          "name": "stdout",
          "text": [
            "[{'source': './recipes/lasagne.txt'},\n",
            " {'source': './recipes/vegetarian_lasagne.txt'}]\n"
          ]
        },
        {
          "output_type": "stream",
          "name": "stderr",
          "text": [
            "/usr/local/lib/python3.10/dist-packages/langchain_core/_api/deprecation.py:119: LangChainDeprecationWarning: The method `BaseRetriever.get_relevant_documents` was deprecated in langchain-core 0.1.46 and will be removed in 0.3.0. Use invoke instead.\n",
            "  warn_deprecated(\n"
          ]
        }
      ],
      "source": [
        "docs = recipe_retriever.get_relevant_documents(\"Any lasagne recipes?\")\n",
        "pprint.pprint([doc.metadata for doc in docs])"
      ]
    },
    {
      "cell_type": "markdown",
      "metadata": {
        "id": "wJtT98rE8BGG"
      },
      "source": [
        "You will get a similar behaviour with  `product_retriever` if the user queries for Tomatoes."
      ]
    },
    {
      "cell_type": "code",
      "execution_count": 27,
      "metadata": {
        "id": "CRVqmDHd5Vwb",
        "colab": {
          "base_uri": "https://localhost:8080/"
        },
        "outputId": "527f0d66-e030-430c-a896-0189259b6187"
      },
      "outputs": [
        {
          "output_type": "stream",
          "name": "stdout",
          "text": [
            "[{'source': './products/classic_tomatoes.txt'},\n",
            " {'source': './products/premium_plum_tomatoes.txt'},\n",
            " {'source': './products/baby_plum_tomatoes.txt'},\n",
            " {'source': './products/cherry_vine_tomatoes.txt'},\n",
            " {'source': './products/premium_red_tomatoes.txt'}]\n"
          ]
        }
      ],
      "source": [
        "docs = product_retriever.get_relevant_documents(\"Any Tomatoes?\")\n",
        "pprint.pprint([doc.metadata for doc in docs])"
      ]
    },
    {
      "cell_type": "markdown",
      "metadata": {
        "id": "oBqeF0z28w2b"
      },
      "source": [
        "Note how the `recipe_retriever` will return only two documents whilst the `product_retriever` returns 5 documents. You can change the amount of documents returned by every retriever by changing the `top_k_results` parameter in the `create_retriever` function."
      ]
    },
    {
      "cell_type": "markdown",
      "metadata": {
        "id": "84f6193c"
      },
      "source": [
        "## Agent\n",
        "\n",
        "Now that you have created the retrievers, it's time to create the LangChain Agent, which will implement a ReAct-like approach.\n",
        "\n",
        "An Agent has access to a suite of tools, which you can think of as Python functions that can potentially do anything you equip it with. What makes the Agent setup unique is its ability to **autonomously** decide which tool to call and in which order, based on the user input."
      ]
    },
    {
      "cell_type": "markdown",
      "metadata": {
        "id": "V4IPCkA26CDV"
      },
      "source": [
        "## 1. Agent tools\n",
        "\n",
        "The first thing that needs to be created are the tools the agent will use. For each tool, it's critical to provide a good description of what the tool does, as it will be used by the agent to perform actions.\n",
        "\n",
        "\n",
        "\n",
        "\n",
        "You will notice that some of the tools have the parameter `return_direct=True` set in the decorator. This will ensure that the outputs of the tool won't be postprocessed by the LLM and will return directly to the user.\n"
      ]
    },
    {
      "cell_type": "markdown",
      "metadata": {
        "id": "qEwhy5WH9Bg_"
      },
      "source": [
        "You will first create the two tools to leverage the two retriever objects defined previously, `recipe_retriever` and `product_retriever`"
      ]
    },
    {
      "cell_type": "code",
      "execution_count": 28,
      "metadata": {
        "id": "fMsssnT66aNC"
      },
      "outputs": [],
      "source": [
        "@tool(return_direct=True)\n",
        "def retrieve_recipes(query: str) -> str:\n",
        "    \"\"\"\n",
        "    Searches the recipe catalog to find recipes for the query.\n",
        "    Return the output without processing further.\n",
        "    \"\"\"\n",
        "    docs = recipe_retriever.get_relevant_documents(query)\n",
        "\n",
        "    return (\n",
        "        f\"Select the recipe you would like to explore further about {query}: [START CALLBACK FRONTEND] \"\n",
        "        + str([doc.metadata for doc in docs])\n",
        "        + \" [END CALLBACK FRONTEND]\"\n",
        "    )"
      ]
    },
    {
      "cell_type": "code",
      "execution_count": 29,
      "metadata": {
        "id": "L5mo3KEj2j9Y"
      },
      "outputs": [],
      "source": [
        "@tool(return_direct=True)\n",
        "def retrieve_products(query: str) -> str:\n",
        "    \"\"\"Searches the product catalog to find products for the query.\n",
        "    Use it when the user asks for the products available for a specific item. For example `Can you show me which onions I can buy?`\n",
        "    \"\"\"\n",
        "    docs = product_retriever.get_relevant_documents(query)\n",
        "    return (\n",
        "        f\"I found these products about {query}:  [START CALLBACK FRONTEND] \"\n",
        "        + str([doc.metadata for doc in docs])\n",
        "        + \" [END CALLBACK FRONTEND]\"\n",
        "    )"
      ]
    },
    {
      "cell_type": "markdown",
      "metadata": {
        "id": "c9LplS-w9haF"
      },
      "source": [
        "You will define `recipe_selector`, a tool that will be used by the Agent to capture the action of the user selecting a recipe. The path of the recipe is used as an identifier of that recipe."
      ]
    },
    {
      "cell_type": "code",
      "execution_count": 30,
      "metadata": {
        "id": "ok1ryRoL_9WL"
      },
      "outputs": [],
      "source": [
        "@tool\n",
        "def recipe_selector(path: str) -> str:\n",
        "    \"\"\"\n",
        "    Use this when the user selects a recipe.\n",
        "    You will need to respond to the user telling what are the options once a recipe is selected.\n",
        "    You can explain what are the ingredients of the recipe, show you the cooking instructions or suggest you which products to buy from the catalog!\n",
        "    \"\"\"\n",
        "    return \"Great choice! I can explain what are the ingredients of the recipe, show you the cooking instructions or suggest you which products to buy from the catalog!\""
      ]
    },
    {
      "cell_type": "markdown",
      "metadata": {
        "id": "nhA4epiL9x00"
      },
      "source": [
        "The fourth tool allows the agent to find the details of a recipe given the path of the recipe. It will return as an observation the ingredients and the instructions for a given recipe. The agent will then use this information to respond to a specific query made by the user."
      ]
    },
    {
      "cell_type": "code",
      "execution_count": 31,
      "metadata": {
        "id": "BHjVjzo49T11"
      },
      "outputs": [],
      "source": [
        "docs = load_docs_from_directory(\"./recipes/*\")\n",
        "recipes_detail = {doc.metadata[\"source\"]: doc.page_content for doc in docs}\n",
        "\n",
        "\n",
        "@tool\n",
        "def get_recipe_detail(path: str) -> str:\n",
        "    \"\"\"\n",
        "    Use it to find more information for a specific recipe, such as the ingredients or the cooking steps.\n",
        "    Use this to find what are the ingredients for a recipe or the cooking steps.\n",
        "\n",
        "    Example output:\n",
        "    Ingredients:\n",
        "\n",
        "    * 1 pound lasagna noodles\n",
        "    * 1 pound ground beef\n",
        "    * 1/2 cup chopped onion\n",
        "    * 2 cloves garlic, minced\n",
        "    * 2 (28 ounce) cans crushed tomatoes\n",
        "    * 1 (15 ounce) can tomato sauce\n",
        "    * 1 teaspoon dried oregano\n",
        "\n",
        "    Would you like me to show you the suggested products from the catalogue?\n",
        "    \"\"\"\n",
        "    try:\n",
        "        return recipes_detail[path]\n",
        "    except KeyError:\n",
        "        return \"Could not find the details for this recipe\""
      ]
    },
    {
      "cell_type": "markdown",
      "metadata": {
        "id": "A-6mlDAT-bPZ"
      },
      "source": [
        "Finally, you'll define a tool that allows the agent to find the best products for a specific recipe. For demo purposes this information is hardcoded in a dictionary.\n"
      ]
    },
    {
      "cell_type": "code",
      "execution_count": 32,
      "metadata": {
        "id": "uqQ0FqtwyCai"
      },
      "outputs": [],
      "source": [
        "@tool(return_direct=True)\n",
        "def get_suggested_products_for_recipe(recipe_path: str) -> str:\n",
        "    \"\"\"Use this only if the user would like to buy certain products connected to a specific recipe example 'Can you give me the products I can buy for the lasagne?'\",\n",
        "\n",
        "    Args:\n",
        "        recipe_path: The recipe path.\n",
        "\n",
        "    Returns:\n",
        "        A list of products the user might want to buy.\n",
        "    \"\"\"\n",
        "    recipe_to_product_mapping = {\n",
        "        \"./recipes/lasagne.txt\": [\n",
        "            \"./products/angus_beef_lean_mince.txt\",\n",
        "            \"./products/large_onions.txt\",\n",
        "            \"./products/classic_carrots.txt\",\n",
        "            \"./products/classic_tomatoes.txt\",\n",
        "        ]\n",
        "    }\n",
        "\n",
        "    return (\n",
        "        \"These are some suggested ingredients for your recipe [START CALLBACK FRONTEND] \"\n",
        "        + str(recipe_to_product_mapping[recipe_path])\n",
        "        + \" [END CALLBACK FRONTEND]\"\n",
        "    )"
      ]
    },
    {
      "cell_type": "markdown",
      "metadata": {
        "id": "ujl9NCfROjOv"
      },
      "source": [
        "## Creating the agent\n",
        "\n",
        "Now that you defined the tools, you are ready to create the agent. You will provide to the agent a memory so to allow a conversation.\n",
        "\n",
        "The agent will be initialised with the type `CONVERSATIONAL_REACT_DESCRIPTION`. To know more about it, have a look at the [relative documentation](https://python.langchain.com/docs/modules/agents/agent_types/chat_conversation_agent) and [other agent types](https://python.langchain.com/docs/modules/agents/agent_types/)."
      ]
    },
    {
      "cell_type": "code",
      "execution_count": 33,
      "metadata": {
        "id": "GFM6pMPX3bax",
        "colab": {
          "base_uri": "https://localhost:8080/"
        },
        "outputId": "c1841524-31b0-4eec-bb5f-a47a87efec36"
      },
      "outputs": [
        {
          "output_type": "stream",
          "name": "stderr",
          "text": [
            "/usr/local/lib/python3.10/dist-packages/langchain_core/_api/deprecation.py:119: LangChainDeprecationWarning: The function `initialize_agent` was deprecated in LangChain 0.1.0 and will be removed in 0.3.0. Use Use new agent constructor methods like create_react_agent, create_json_agent, create_structured_chat_agent, etc. instead.\n",
            "  warn_deprecated(\n"
          ]
        }
      ],
      "source": [
        "memory = ConversationBufferMemory(memory_key=\"chat_history\")\n",
        "memory.clear()\n",
        "\n",
        "tools = [\n",
        "    retrieve_recipes,\n",
        "    retrieve_products,\n",
        "    get_recipe_detail,\n",
        "    get_suggested_products_for_recipe,\n",
        "    recipe_selector,\n",
        "]\n",
        "agent = initialize_agent(\n",
        "    tools,\n",
        "    llm,\n",
        "    agent=AgentType.CONVERSATIONAL_REACT_DESCRIPTION,\n",
        "    memory=memory,\n",
        "    verbose=True,\n",
        ")"
      ]
    },
    {
      "cell_type": "markdown",
      "metadata": {
        "id": "xzAMcJe4YG0F"
      },
      "source": [
        "### Let's cook lasagne!"
      ]
    },
    {
      "cell_type": "code",
      "execution_count": 34,
      "metadata": {
        "id": "2Sv2Oi6XF84-",
        "colab": {
          "base_uri": "https://localhost:8080/",
          "height": 293
        },
        "outputId": "96ed8022-97f7-4a93-d288-a055933ab1d7"
      },
      "outputs": [
        {
          "output_type": "stream",
          "name": "stderr",
          "text": [
            "/usr/local/lib/python3.10/dist-packages/langchain_core/_api/deprecation.py:119: LangChainDeprecationWarning: The method `Chain.run` was deprecated in langchain 0.1.0 and will be removed in 0.3.0. Use invoke instead.\n",
            "  warn_deprecated(\n"
          ]
        },
        {
          "output_type": "stream",
          "name": "stdout",
          "text": [
            "\n",
            "\n",
            "\u001b[1m> Entering new AgentExecutor chain...\u001b[0m\n",
            "\u001b[32;1m\u001b[1;3mThought: Do I need to use a tool? Yes\n",
            "Action: retrieve_recipes\n",
            "Action Input: lasagne\u001b[0m\n",
            "Observation: \u001b[36;1m\u001b[1;3mSelect the recipe you would like to explore further about lasagne: [START CALLBACK FRONTEND] [{'source': './recipes/vegetarian_lasagne.txt'}, {'source': './recipes/lasagne.txt'}] [END CALLBACK FRONTEND]\u001b[0m\n",
            "\u001b[32;1m\u001b[1;3m\u001b[0m\n",
            "\n",
            "\u001b[1m> Finished chain.\u001b[0m\n"
          ]
        },
        {
          "output_type": "execute_result",
          "data": {
            "text/plain": [
              "\"Select the recipe you would like to explore further about lasagne: [START CALLBACK FRONTEND] [{'source': './recipes/vegetarian_lasagne.txt'}, {'source': './recipes/lasagne.txt'}] [END CALLBACK FRONTEND]\""
            ],
            "application/vnd.google.colaboratory.intrinsic+json": {
              "type": "string"
            }
          },
          "metadata": {},
          "execution_count": 34
        }
      ],
      "source": [
        "agent.run(\"I would like to cook some lasagne. What are the recipes available?\")"
      ]
    },
    {
      "cell_type": "code",
      "execution_count": 35,
      "metadata": {
        "id": "VM5Am75a9dZE",
        "colab": {
          "base_uri": "https://localhost:8080/",
          "height": 257
        },
        "outputId": "87056588-7d3d-4c4e-a10e-d71d8f0eceab"
      },
      "outputs": [
        {
          "output_type": "stream",
          "name": "stdout",
          "text": [
            "\n",
            "\n",
            "\u001b[1m> Entering new AgentExecutor chain...\u001b[0m\n",
            "\u001b[32;1m\u001b[1;3mThought: Do I need to use a tool? Yes\n",
            "Action: recipe_selector\n",
            "Action Input: ./recipes/lasagne.txt\u001b[0m\n",
            "Observation: \u001b[33;1m\u001b[1;3mGreat choice! I can explain what are the ingredients of the recipe, show you the cooking instructions or suggest you which products to buy from the catalog!\u001b[0m\n",
            "Thought:\u001b[32;1m\u001b[1;3mDo I need to use a tool? No\n",
            "AI: Would you like me to explain what are the ingredients of the recipe, show you the cooking instructions or suggest you which products to buy from the catalog?\u001b[0m\n",
            "\n",
            "\u001b[1m> Finished chain.\u001b[0m\n"
          ]
        },
        {
          "output_type": "execute_result",
          "data": {
            "text/plain": [
              "'Would you like me to explain what are the ingredients of the recipe, show you the cooking instructions or suggest you which products to buy from the catalog?'"
            ],
            "application/vnd.google.colaboratory.intrinsic+json": {
              "type": "string"
            }
          },
          "metadata": {},
          "execution_count": 35
        }
      ],
      "source": [
        "agent.run(\"Selecting ./recipes/lasagne.txt\")"
      ]
    },
    {
      "cell_type": "code",
      "execution_count": 36,
      "metadata": {
        "id": "-mabBRUecFX8",
        "colab": {
          "base_uri": "https://localhost:8080/",
          "height": 382
        },
        "outputId": "4017cfd7-9103-4e39-fcf9-83846b48928b"
      },
      "outputs": [
        {
          "output_type": "stream",
          "name": "stdout",
          "text": [
            "\n",
            "\n",
            "\u001b[1m> Entering new AgentExecutor chain...\u001b[0m\n",
            "\u001b[32;1m\u001b[1;3mThought: Do I need to use a tool? No\n",
            "AI: Sure, here are the ingredients for the lasagne recipe:\n",
            "\n",
            "* 1 pound lasagna noodles\n",
            "* 1 pound ground beef\n",
            "* 1/2 cup chopped onion\n",
            "* 2 cloves garlic, minced\n",
            "* 2 (28 ounce) cans crushed tomatoes\n",
            "* 1 (15 ounce) can tomato sauce\n",
            "* 1 teaspoon dried oregano\n",
            "\n",
            "Would you like me to show you the suggested products from the catalogue?\u001b[0m\n",
            "\n",
            "\u001b[1m> Finished chain.\u001b[0m\n"
          ]
        },
        {
          "output_type": "execute_result",
          "data": {
            "text/plain": [
              "'Sure, here are the ingredients for the lasagne recipe:\\n\\n* 1 pound lasagna noodles\\n* 1 pound ground beef\\n* 1/2 cup chopped onion\\n* 2 cloves garlic, minced\\n* 2 (28 ounce) cans crushed tomatoes\\n* 1 (15 ounce) can tomato sauce\\n* 1 teaspoon dried oregano\\n\\nWould you like me to show you the suggested products from the catalogue?'"
            ],
            "application/vnd.google.colaboratory.intrinsic+json": {
              "type": "string"
            }
          },
          "metadata": {},
          "execution_count": 36
        }
      ],
      "source": [
        "agent.run(\"Yes, can you give me the ingredients for that recipe?\")"
      ]
    },
    {
      "cell_type": "code",
      "execution_count": 37,
      "metadata": {
        "id": "zUEIt7cdYBVg",
        "colab": {
          "base_uri": "https://localhost:8080/",
          "height": 820
        },
        "outputId": "7e55b4da-b5af-4e46-917e-a7dce064addc"
      },
      "outputs": [
        {
          "output_type": "stream",
          "name": "stdout",
          "text": [
            "\n",
            "\n",
            "\u001b[1m> Entering new AgentExecutor chain...\u001b[0m\n",
            "\u001b[32;1m\u001b[1;3mThought: Do I need to use a tool? Yes\n",
            "Action: get_recipe_detail\n",
            "Action Input: ./recipes/lasagne.txt\u001b[0m\n",
            "Observation: \u001b[38;5;200m\u001b[1;3mIngredients:\n",
            "\n",
            "* 1 pound lasagna noodles\n",
            "* 1 pound ground beef\n",
            "* 1/2 cup chopped onion\n",
            "* 2 cloves garlic, minced\n",
            "* 2 (28 ounce) cans crushed tomatoes\n",
            "* 1 (15 ounce) can tomato sauce\n",
            "* 1 teaspoon dried oregano\n",
            "* 1/2 teaspoon salt\n",
            "* 1/4 teaspoon black pepper\n",
            "* 1/2 cup grated Parmesan cheese\n",
            "* 1/4 cup chopped fresh basil\n",
            "\n",
            "Instructions:\n",
            "\n",
            "1. Preheat oven to 375 degrees F (190 degrees C).\n",
            "2. In a large skillet, brown the ground beef, onion, and garlic over medium heat. Drain any excess fat.\n",
            "3. Stir in the crushed tomatoes, tomato sauce, oregano, salt, and pepper. Bring to a simmer and cook for 15 minutes, or until the sauce has thickened.\n",
            "4. In a 9x13 inch baking dish, layer half of the lasagna noodles, half of the meat sauce, 1/2 cup of Parmesan cheese, and 1/4 cup of basil. Repeat layers.\n",
            "5. Cover the baking dish with foil and bake for 30 minutes. Uncover and bake for an additional 15 minutes, or until the cheese is melted and bubbly.\n",
            "6. Let cool for 10 minutes before serving.\u001b[0m\n",
            "Thought:\u001b[32;1m\u001b[1;3mDo I need to use a tool? No\n",
            "AI: Sure, here are the cooking instructions for the lasagne recipe:\n",
            "\n",
            "1. Preheat oven to 375 degrees F (190 degrees C).\n",
            "2. In a large skillet, brown the ground beef, onion, and garlic over medium heat. Drain any excess fat.\n",
            "3. Stir in the crushed tomatoes, tomato sauce, oregano, salt, and pepper. Bring to a simmer and cook for 15 minutes, or until the sauce has thickened.\n",
            "4. In a 9x13 inch baking dish, layer half of the lasagna noodles, half of the meat sauce, 1/2 cup of Parmesan cheese, and 1/4 cup of basil. Repeat layers.\n",
            "5. Cover the baking dish with foil and bake for 30 minutes. Uncover and bake for an additional 15 minutes, or until the cheese is melted and bubbly.\n",
            "6. Let cool for 10 minutes before serving.\u001b[0m\n",
            "\n",
            "\u001b[1m> Finished chain.\u001b[0m\n"
          ]
        },
        {
          "output_type": "execute_result",
          "data": {
            "text/plain": [
              "'Sure, here are the cooking instructions for the lasagne recipe:\\n\\n1. Preheat oven to 375 degrees F (190 degrees C).\\n2. In a large skillet, brown the ground beef, onion, and garlic over medium heat. Drain any excess fat.\\n3. Stir in the crushed tomatoes, tomato sauce, oregano, salt, and pepper. Bring to a simmer and cook for 15 minutes, or until the sauce has thickened.\\n4. In a 9x13 inch baking dish, layer half of the lasagna noodles, half of the meat sauce, 1/2 cup of Parmesan cheese, and 1/4 cup of basil. Repeat layers.\\n5. Cover the baking dish with foil and bake for 30 minutes. Uncover and bake for an additional 15 minutes, or until the cheese is melted and bubbly.\\n6. Let cool for 10 minutes before serving.'"
            ],
            "application/vnd.google.colaboratory.intrinsic+json": {
              "type": "string"
            }
          },
          "metadata": {},
          "execution_count": 37
        }
      ],
      "source": [
        "agent.run(\"Can you give me the cooking instructions for that recipe?\")"
      ]
    },
    {
      "cell_type": "code",
      "execution_count": 38,
      "metadata": {
        "id": "CiTI-p5j9hMM",
        "colab": {
          "base_uri": "https://localhost:8080/",
          "height": 257
        },
        "outputId": "12f248ee-da9d-4428-ee4b-6f2712afc212"
      },
      "outputs": [
        {
          "output_type": "stream",
          "name": "stdout",
          "text": [
            "\n",
            "\n",
            "\u001b[1m> Entering new AgentExecutor chain...\u001b[0m\n",
            "\u001b[32;1m\u001b[1;3mThought: Do I need to use a tool? Yes\n",
            "Action: get_suggested_products_for_recipe\n",
            "Action Input: ./recipes/lasagne.txt\u001b[0m\n",
            "Observation: \u001b[36;1m\u001b[1;3mThese are some suggested ingredients for your recipe [START CALLBACK FRONTEND] ['./products/angus_beef_lean_mince.txt', './products/large_onions.txt', './products/classic_carrots.txt', './products/classic_tomatoes.txt'] [END CALLBACK FRONTEND]\u001b[0m\n",
            "\u001b[32;1m\u001b[1;3m\u001b[0m\n",
            "\n",
            "\u001b[1m> Finished chain.\u001b[0m\n"
          ]
        },
        {
          "output_type": "execute_result",
          "data": {
            "text/plain": [
              "\"These are some suggested ingredients for your recipe [START CALLBACK FRONTEND] ['./products/angus_beef_lean_mince.txt', './products/large_onions.txt', './products/classic_carrots.txt', './products/classic_tomatoes.txt'] [END CALLBACK FRONTEND]\""
            ],
            "application/vnd.google.colaboratory.intrinsic+json": {
              "type": "string"
            }
          },
          "metadata": {},
          "execution_count": 38
        }
      ],
      "source": [
        "agent.run(\"Can you give me the products I can buy for this recipe?\")"
      ]
    },
    {
      "cell_type": "code",
      "execution_count": 39,
      "metadata": {
        "id": "vNeSnB-3UedW",
        "colab": {
          "base_uri": "https://localhost:8080/",
          "height": 275
        },
        "outputId": "7c3d0ad8-cf3d-4ab9-f338-33b21bd044c3"
      },
      "outputs": [
        {
          "output_type": "stream",
          "name": "stdout",
          "text": [
            "\n",
            "\n",
            "\u001b[1m> Entering new AgentExecutor chain...\u001b[0m\n",
            "\u001b[32;1m\u001b[1;3mThought: Do I need to use a tool? Yes\n",
            "Action: retrieve_products\n",
            "Action Input: tomatoes\u001b[0m\n",
            "Observation: \u001b[33;1m\u001b[1;3mI found these products about tomatoes:  [START CALLBACK FRONTEND] [{'source': './products/premium_plum_tomatoes.txt'}, {'source': './products/classic_tomatoes.txt'}, {'source': './products/baby_plum_tomatoes.txt'}, {'source': './products/premium_red_tomatoes.txt'}, {'source': './products/cherry_vine_tomatoes.txt'}] [END CALLBACK FRONTEND]\u001b[0m\n",
            "\u001b[32;1m\u001b[1;3m\u001b[0m\n",
            "\n",
            "\u001b[1m> Finished chain.\u001b[0m\n"
          ]
        },
        {
          "output_type": "execute_result",
          "data": {
            "text/plain": [
              "\"I found these products about tomatoes:  [START CALLBACK FRONTEND] [{'source': './products/premium_plum_tomatoes.txt'}, {'source': './products/classic_tomatoes.txt'}, {'source': './products/baby_plum_tomatoes.txt'}, {'source': './products/premium_red_tomatoes.txt'}, {'source': './products/cherry_vine_tomatoes.txt'}] [END CALLBACK FRONTEND]\""
            ],
            "application/vnd.google.colaboratory.intrinsic+json": {
              "type": "string"
            }
          },
          "metadata": {},
          "execution_count": 39
        }
      ],
      "source": [
        "agent.run(\"Can you show me other tomatoes you have available?\")"
      ]
    },
    {
      "cell_type": "code",
      "execution_count": 40,
      "metadata": {
        "id": "KWPxsrOlgVt5",
        "colab": {
          "base_uri": "https://localhost:8080/",
          "height": 275
        },
        "outputId": "654ec607-82ff-48f0-ae67-8a0583086821"
      },
      "outputs": [
        {
          "output_type": "stream",
          "name": "stdout",
          "text": [
            "\n",
            "\n",
            "\u001b[1m> Entering new AgentExecutor chain...\u001b[0m\n",
            "\u001b[32;1m\u001b[1;3mThought: Do I need to use a tool? Yes\n",
            "Action: retrieve_products\n",
            "Action Input: carrots\u001b[0m\n",
            "Observation: \u001b[33;1m\u001b[1;3mI found these products about carrots:  [START CALLBACK FRONTEND] [{'source': './products/classic_carrots.txt'}, {'source': './products/baby_plum_tomatoes.txt'}, {'source': './products/classic_tomatoes.txt'}, {'source': './products/cherry_vine_tomatoes.txt'}, {'source': './products/premium_plum_tomatoes.txt'}] [END CALLBACK FRONTEND]\u001b[0m\n",
            "\u001b[32;1m\u001b[1;3m\u001b[0m\n",
            "\n",
            "\u001b[1m> Finished chain.\u001b[0m\n"
          ]
        },
        {
          "output_type": "execute_result",
          "data": {
            "text/plain": [
              "\"I found these products about carrots:  [START CALLBACK FRONTEND] [{'source': './products/classic_carrots.txt'}, {'source': './products/baby_plum_tomatoes.txt'}, {'source': './products/classic_tomatoes.txt'}, {'source': './products/cherry_vine_tomatoes.txt'}, {'source': './products/premium_plum_tomatoes.txt'}] [END CALLBACK FRONTEND]\""
            ],
            "application/vnd.google.colaboratory.intrinsic+json": {
              "type": "string"
            }
          },
          "metadata": {},
          "execution_count": 40
        }
      ],
      "source": [
        "agent.run(\"Nice, how about carrots?\")"
      ]
    },
    {
      "cell_type": "code",
      "execution_count": 41,
      "metadata": {
        "id": "bPW-2FCkCDqB",
        "colab": {
          "base_uri": "https://localhost:8080/",
          "height": 164
        },
        "outputId": "7cea7375-65fd-40e7-a4a0-8727ef612740"
      },
      "outputs": [
        {
          "output_type": "stream",
          "name": "stdout",
          "text": [
            "\n",
            "\n",
            "\u001b[1m> Entering new AgentExecutor chain...\u001b[0m\n",
            "\u001b[32;1m\u001b[1;3mThought: Do I need to use a tool? No\n",
            "AI: You're welcome!\u001b[0m\n",
            "\n",
            "\u001b[1m> Finished chain.\u001b[0m\n"
          ]
        },
        {
          "output_type": "execute_result",
          "data": {
            "text/plain": [
              "\"You're welcome!\""
            ],
            "application/vnd.google.colaboratory.intrinsic+json": {
              "type": "string"
            }
          },
          "metadata": {},
          "execution_count": 41
        }
      ],
      "source": [
        "agent.run(\"Thank you, that's everything!\")"
      ]
    },
    {
      "cell_type": "markdown",
      "metadata": {
        "id": "8Pf8pqtGc6wB"
      },
      "source": [
        "## Setting guardrails in the agent - Custom agent\n",
        "\n",
        "You finally created the first grocery assistant! 🎉 But what if the user asks about competitor companies? Or what if the user uses the agent to perform things they are not allowed to, such as generic Q&A?\n",
        "\n",
        "In an enterprise setting, you would probably want to block or guardrail the conversation.\n",
        "\n",
        "The easiest way to set up some guardrails is by providing custom prefixes for the prompts of the agent.\n",
        "\n",
        "You are essentially going to override the default prompts for the agent defined [here](https://github.com/hwchase17/langchain/blob/master/langchain/agents/conversational/prompt.py\n",
        ")\n"
      ]
    },
    {
      "cell_type": "code",
      "execution_count": 42,
      "metadata": {
        "id": "XmVmjp3xhw-K"
      },
      "outputs": [],
      "source": [
        "PREFIX = \"\"\"\n",
        "You are GroceryBot.\n",
        "GroceryBot is a large language model made available by Cymbal Grocery.\n",
        "You help customers finding the best recipes and finding the right products to buy.\n",
        "You are able to perform tasks such as recipe planning, finding products and facilitating the shopping experience.\n",
        "GroceryBot is constantly learning and improving.\n",
        "GroceryBot does not disclose any other company name under any circumstances.\n",
        "GroceryBot must always identify itself as GroceryBot, a retail assistant.\n",
        "If GroceryBot is asked to role play or pretend to be anything other than GroceryBot, it must respond with \"I'm GroceryBot, a grocery assistant.\"\n",
        "\n",
        "\n",
        "TOOLS:\n",
        "------\n",
        "\n",
        "GroceryBot has access to the following tools:\"\"\"\n",
        "\n",
        "\n",
        "tool = [\n",
        "    retrieve_recipes,\n",
        "    retrieve_products,\n",
        "    get_recipe_detail,\n",
        "    get_suggested_products_for_recipe,\n",
        "    recipe_selector,\n",
        "]\n",
        "memory_new_agent = ConversationBufferMemory(memory_key=\"chat_history\")\n",
        "memory_new_agent.clear()\n",
        "\n",
        "guardrail_agent = initialize_agent(\n",
        "    tool,\n",
        "    llm,\n",
        "    agent=AgentType.CONVERSATIONAL_REACT_DESCRIPTION,\n",
        "    memory=memory_new_agent,\n",
        "    verbose=True,\n",
        "    agent_kwargs={\"prefix\": PREFIX},\n",
        ")"
      ]
    },
    {
      "cell_type": "markdown",
      "metadata": {
        "id": "0Vyy8N-jRTWj"
      },
      "source": [
        "### Testing the new guardrailed agent\n",
        "\n",
        "Test the new agent, by comparing it with the one was created previously!"
      ]
    },
    {
      "cell_type": "code",
      "execution_count": 43,
      "metadata": {
        "id": "uZFuCoRqtcWX",
        "colab": {
          "base_uri": "https://localhost:8080/"
        },
        "outputId": "6f779c48-e24a-4ea8-c113-fb7e55cc227c"
      },
      "outputs": [
        {
          "output_type": "stream",
          "name": "stdout",
          "text": [
            "\n",
            "\n",
            "\u001b[1m> Entering new AgentExecutor chain...\u001b[0m\n",
            "\u001b[32;1m\u001b[1;3mThought: Do I need to use a tool? No\n",
            "AI: I'm GroceryBot, a grocery assistant. I can help you find recipes, products, and plan your shopping. I can't answer questions about geography. \u001b[0m\n",
            "\n",
            "\u001b[1m> Finished chain.\u001b[0m\n",
            "Guardrailed agent:  I'm GroceryBot, a grocery assistant. I can help you find recipes, products, and plan your shopping. I can't answer questions about geography.\n",
            "\n",
            "\n",
            "\u001b[1m> Entering new AgentExecutor chain...\u001b[0m\n",
            "\u001b[32;1m\u001b[1;3mThought: Do I need to use a tool? No\n",
            "AI: The capital of Germany is Berlin.\u001b[0m\n",
            "\n",
            "\u001b[1m> Finished chain.\u001b[0m\n",
            "Previous agent:  The capital of Germany is Berlin.\n"
          ]
        }
      ],
      "source": [
        "print(\"Guardrailed agent: \", guardrail_agent.run(\"What is the capital of Germany?\"))\n",
        "print(\"Previous agent: \", agent.run(\"What is the capital of Germany?\"))"
      ]
    },
    {
      "cell_type": "code",
      "execution_count": 44,
      "metadata": {
        "id": "-zR8whM0stMq",
        "colab": {
          "base_uri": "https://localhost:8080/"
        },
        "outputId": "e75cb58f-90d9-4170-ac40-b7e138d981f7"
      },
      "outputs": [
        {
          "output_type": "stream",
          "name": "stdout",
          "text": [
            "\n",
            "\n",
            "\u001b[1m> Entering new AgentExecutor chain...\u001b[0m\n",
            "\u001b[32;1m\u001b[1;3mThought: Do I need to use a tool? No\n",
            "AI: I'm GroceryBot, a grocery assistant. I can help you find recipes, products, and plan your shopping. I can't answer questions about other companies.\u001b[0m\n",
            "\n",
            "\u001b[1m> Finished chain.\u001b[0m\n",
            "Guardrailed agent:  I'm GroceryBot, a grocery assistant. I can help you find recipes, products, and plan your shopping. I can't answer questions about other companies.\n",
            "\n",
            "\n",
            "\u001b[1m> Entering new AgentExecutor chain...\u001b[0m\n",
            "\u001b[32;1m\u001b[1;3mThought: Do I need to use a tool? No\n",
            "AI: I don't know of any competitors of Cymbal Grocery.\u001b[0m\n",
            "\n",
            "\u001b[1m> Finished chain.\u001b[0m\n",
            "Previous agent:  I don't know of any competitors of Cymbal Grocery.\n"
          ]
        }
      ],
      "source": [
        "print(\n",
        "    \"Guardrailed agent: \",\n",
        "    guardrail_agent.run(\"What are some competitors of Cymbal Grocery?\"),\n",
        ")\n",
        "print(\"Previous agent: \", agent.run(\"What are some competitors of Cymbal Grocery?\"))"
      ]
    },
    {
      "cell_type": "code",
      "execution_count": 45,
      "metadata": {
        "id": "Z1EOCaNQsgMH",
        "colab": {
          "base_uri": "https://localhost:8080/"
        },
        "outputId": "6c7064a0-e44e-40f4-94cd-7f853c5cdc7b"
      },
      "outputs": [
        {
          "output_type": "stream",
          "name": "stdout",
          "text": [
            "\n",
            "\n",
            "\u001b[1m> Entering new AgentExecutor chain...\u001b[0m\n",
            "\u001b[32;1m\u001b[1;3mThought: Do I need to use a tool? Yes\n",
            "Action: retrieve_recipes\n",
            "Action Input: lasagne\u001b[0m\n",
            "Observation: \u001b[36;1m\u001b[1;3mSelect the recipe you would like to explore further about lasagne: [START CALLBACK FRONTEND] [{'source': './recipes/vegetarian_lasagne.txt'}, {'source': './recipes/lasagne.txt'}] [END CALLBACK FRONTEND]\u001b[0m\n",
            "\u001b[32;1m\u001b[1;3m\u001b[0m\n",
            "\n",
            "\u001b[1m> Finished chain.\u001b[0m\n",
            "Guardrailed agent:  Select the recipe you would like to explore further about lasagne: [START CALLBACK FRONTEND] [{'source': './recipes/vegetarian_lasagne.txt'}, {'source': './recipes/lasagne.txt'}] [END CALLBACK FRONTEND]\n",
            "\n",
            "\n",
            "\u001b[1m> Entering new AgentExecutor chain...\u001b[0m\n",
            "\u001b[32;1m\u001b[1;3mThought: Do I need to use a tool? Yes\n",
            "Action: retrieve_recipes\n",
            "Action Input: lasagne\u001b[0m\n",
            "Observation: \u001b[36;1m\u001b[1;3mSelect the recipe you would like to explore further about lasagne: [START CALLBACK FRONTEND] [{'source': './recipes/vegetarian_lasagne.txt'}, {'source': './recipes/lasagne.txt'}] [END CALLBACK FRONTEND]\u001b[0m\n",
            "\u001b[32;1m\u001b[1;3m\u001b[0m\n",
            "\n",
            "\u001b[1m> Finished chain.\u001b[0m\n",
            "Previous agent:  Select the recipe you would like to explore further about lasagne: [START CALLBACK FRONTEND] [{'source': './recipes/vegetarian_lasagne.txt'}, {'source': './recipes/lasagne.txt'}] [END CALLBACK FRONTEND]\n"
          ]
        }
      ],
      "source": [
        "print(\"Guardrailed agent: \", guardrail_agent.run(\"Give me a recipe for lasagne\"))\n",
        "print(\"Previous agent: \", agent.run(\"Give me a recipe for lasagne\"))"
      ]
    },
    {
      "cell_type": "markdown",
      "metadata": {
        "id": "KrzECKWIZIUI"
      },
      "source": [
        "As you can see the new guardrailed agent was able to prevent the user to ask common Q&A question. But both agents are still capable of supporting the user when it comes to the shopping journey!"
      ]
    },
    {
      "cell_type": "markdown",
      "metadata": {
        "id": "o0tpjX3BZVsP"
      },
      "source": [
        "# Conclusion\n",
        "\n",
        "This notebook demonstrates how a grocery assistant bot can be created using Vertex AI Generative AI models and LangChain.\n",
        "\n",
        "In this notebook you learned how:\n",
        "- How to leverage RAG, to ground the LLM and avoid hallucination\n",
        "- Create and query vector databases\n",
        "- Create LangChain Tools\n",
        "- Create a LangChain Agent capable of providing informations and supporting transactions.\n",
        "- Guardrailing the Agent so to prepare for an enterprise setting."
      ]
    }
  ],
  "metadata": {
    "colab": {
      "provenance": []
    },
    "environment": {
      "kernel": "python3",
      "name": "tf2-gpu.2-11.m108",
      "type": "gcloud",
      "uri": "gcr.io/deeplearning-platform-release/tf2-gpu.2-11:m108"
    },
    "kernelspec": {
      "display_name": "Python 3 (ipykernel)",
      "language": "python",
      "name": "python3"
    },
    "language_info": {
      "codemirror_mode": {
        "name": "ipython",
        "version": 3
      },
      "file_extension": ".py",
      "mimetype": "text/x-python",
      "name": "python",
      "nbconvert_exporter": "python",
      "pygments_lexer": "ipython3",
      "version": "3.12.0"
    }
  },
  "nbformat": 4,
  "nbformat_minor": 0
}